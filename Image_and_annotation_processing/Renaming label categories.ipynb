{
 "cells": [
  {
   "cell_type": "code",
   "execution_count": 49,
   "id": "2e48457f",
   "metadata": {},
   "outputs": [],
   "source": [
    "import json\n",
    "import os\n",
    "import glob"
   ]
  },
  {
   "cell_type": "code",
   "execution_count": 51,
   "id": "98d2db8d",
   "metadata": {},
   "outputs": [],
   "source": [
    "labelme_json_in = glob.glob(os.path.join('F:/Berlin-DOP_2020/Processed images/Split_images_2/Valid', \"*.json\"))\n",
    "\n",
    "for directory in labelme_json_in:\n",
    "    with open(directory, 'r+') as file:\n",
    "        content = file.read()        \n",
    "        file.seek(0)\n",
    "        content = content.replace(\"PK_space_occupied\", \"PK-space-occupied\")\n",
    "        content = content.replace(\"PK_space_empty\", \"PK-space-empty\")\n",
    "        #print(content)\n",
    "        file.write(content)"
   ]
  }
 ],
 "metadata": {
  "kernelspec": {
   "display_name": "Python 3",
   "language": "python",
   "name": "python3"
  },
  "language_info": {
   "codemirror_mode": {
    "name": "ipython",
    "version": 3
   },
   "file_extension": ".py",
   "mimetype": "text/x-python",
   "name": "python",
   "nbconvert_exporter": "python",
   "pygments_lexer": "ipython3",
   "version": "3.7.10"
  }
 },
 "nbformat": 4,
 "nbformat_minor": 5
}
