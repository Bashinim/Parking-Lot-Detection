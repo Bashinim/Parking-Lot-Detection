{
 "cells": [
  {
   "cell_type": "code",
   "execution_count": 1,
   "id": "879cc4a3",
   "metadata": {},
   "outputs": [],
   "source": [
    "import numpy as np\n",
    "import matplotlib.pyplot as plt\n",
    "import geopandas as gpd\n",
    "import pandas as pd\n",
    "from sklearn.cluster import KMeans\n",
    "import cartopy.crs as ccrs\n",
    "import matplotlib.patches as mpatches\n",
    "import hdbscan\n",
    "import seaborn as sns\n",
    "from sklearn.preprocessing import LabelEncoder\n",
    "from sklearn import metrics\n",
    "from sklearn.metrics import classification_report\n",
    "from sklearn.linear_model import LogisticRegression\n",
    "from sklearn.model_selection import train_test_split"
   ]
  },
  {
   "cell_type": "code",
   "execution_count": 2,
   "id": "14b7f90c",
   "metadata": {},
   "outputs": [],
   "source": [
    "# Reading the file with metrices\n",
    "df_parking = gpd.read_file(\"F:/Berlin-DOP_2020/Processed images_new/parking_dist.gpkg\", layer=\"parking_disolved_withdata\")"
   ]
  },
  {
   "cell_type": "code",
   "execution_count": 3,
   "id": "ab30392e",
   "metadata": {},
   "outputs": [],
   "source": [
    "# Renaming the column heading\n",
    "df_parking = df_parking.rename(columns={'True or False': 'True_or_False'})\n",
    "df_parking.loc[df_parking.True_or_False == \"true\", 'True_or_False'] = 1\n",
    "df_parking.loc[df_parking.True_or_False == \"false\", 'True_or_False'] = 0\n",
    "df_parking = pd.DataFrame(df_parking[['parking_area_m2', 'nearest_geometry_dis', 'True_or_False']])\n"
   ]
  },
  {
   "cell_type": "code",
   "execution_count": 4,
   "id": "4324ac67",
   "metadata": {},
   "outputs": [],
   "source": [
    "df_parking['True_or_False'] = df_parking['True_or_False'].astype(str)"
   ]
  },
  {
   "cell_type": "code",
   "execution_count": 5,
   "id": "5a3cdde8",
   "metadata": {},
   "outputs": [],
   "source": [
    "X = df_parking.iloc[:,:-1]"
   ]
  },
  {
   "cell_type": "code",
   "execution_count": 6,
   "id": "56b37cda",
   "metadata": {},
   "outputs": [],
   "source": [
    "y = df_parking[\"True_or_False\"]"
   ]
  },
  {
   "cell_type": "code",
   "execution_count": 7,
   "id": "426c3e9f",
   "metadata": {},
   "outputs": [],
   "source": [
    "X_train, X_test, y_train, y_test = train_test_split(X,y, test_size = 0.33, random_state = 0)"
   ]
  },
  {
   "cell_type": "code",
   "execution_count": 8,
   "id": "0450a65a",
   "metadata": {},
   "outputs": [
    {
     "data": {
      "text/plain": [
       "LogisticRegression(max_iter=300)"
      ]
     },
     "execution_count": 8,
     "metadata": {},
     "output_type": "execute_result"
    }
   ],
   "source": [
    "reg = LogisticRegression(max_iter= 300)\n",
    "reg.fit(X_train, y_train)"
   ]
  },
  {
   "cell_type": "code",
   "execution_count": 9,
   "id": "9a0eafe6",
   "metadata": {},
   "outputs": [],
   "source": [
    "y_pred = reg.predict(X_test)"
   ]
  },
  {
   "cell_type": "code",
   "execution_count": 10,
   "id": "d01e049c",
   "metadata": {},
   "outputs": [
    {
     "name": "stdout",
     "output_type": "stream",
     "text": [
      "<sklearn.metrics._plot.confusion_matrix.ConfusionMatrixDisplay object at 0x000001DE41588B20>\n"
     ]
    },
    {
     "data": {
      "image/png": "[encoded data removed]",
      "text/plain": [
       "<Figure size 432x288 with 2 Axes>"
      ]
     },
     "metadata": {
      "needs_background": "light"
     },
     "output_type": "display_data"
    }
   ],
   "source": [
    "confusion_matrix = metrics.plot_confusion_matrix(reg, X_test, y_test, cmap = \"GnBu\")\n",
    "print(confusion_matrix)"
   ]
  },
  {
   "cell_type": "code",
   "execution_count": 11,
   "id": "db3f7c37",
   "metadata": {},
   "outputs": [
    {
     "name": "stdout",
     "output_type": "stream",
     "text": [
      "Accuracy 0.840625\n"
     ]
    }
   ],
   "source": [
    "print(\"Accuracy\", metrics.accuracy_score(y_test, y_pred))"
   ]
  },
  {
   "cell_type": "code",
   "execution_count": 12,
   "id": "99c6cd4c",
   "metadata": {},
   "outputs": [
    {
     "name": "stdout",
     "output_type": "stream",
     "text": [
      "              precision    recall  f1-score   support\n",
      "\n",
      "           0       0.72      0.56      0.63        77\n",
      "           1       0.87      0.93      0.90       243\n",
      "\n",
      "    accuracy                           0.84       320\n",
      "   macro avg       0.79      0.74      0.76       320\n",
      "weighted avg       0.83      0.84      0.83       320\n",
      "\n"
     ]
    }
   ],
   "source": [
    "print(classification_report(y_test,y_pred))"
   ]
  },
  {
   "cell_type": "code",
   "execution_count": 13,
   "id": "d74825ae",
   "metadata": {},
   "outputs": [],
   "source": [
    "y_pred = [int(y_pred) for y_pred in y_pred]\n",
    "y_test =y_test.astype(int).array"
   ]
  },
  {
   "cell_type": "code",
   "execution_count": 16,
   "id": "4e80d681",
   "metadata": {},
   "outputs": [
    {
     "name": "stdout",
     "output_type": "stream",
     "text": [
      "AUC: 0.81\n"
     ]
    },
    {
     "data": {
      "image/png": "[encoded data removed]",
      "text/plain": [
       "<Figure size 432x288 with 1 Axes>"
      ]
     },
     "metadata": {
      "needs_background": "light"
     },
     "output_type": "display_data"
    }
   ],
   "source": [
    "# ROC curve and AUC\n",
    "y_pred_prob = reg.predict_proba(X_test)[:,1]\n",
    "fpr, tpr, threshold = metrics.roc_curve (y_test, y_pred_prob)\n",
    "plt.plot(fpr, tpr)\n",
    "auc = metrics.roc_auc_score(y_test, y_pred_prob)\n",
    "print(\"AUC:\", round(auc,2))"
   ]
  }
 ],
 "metadata": {
  "kernelspec": {
   "display_name": "Python 3 (ipykernel)",
   "language": "python",
   "name": "python3"
  },
  "language_info": {
   "codemirror_mode": {
    "name": "ipython",
    "version": 3
   },
   "file_extension": ".py",
   "mimetype": "text/x-python",
   "name": "python",
   "nbconvert_exporter": "python",
   "pygments_lexer": "ipython3",
   "version": "3.9.7"
  }
 },
 "nbformat": 4,
 "nbformat_minor": 5
}
