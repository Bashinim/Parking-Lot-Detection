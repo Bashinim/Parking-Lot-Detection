{
 "cells": [
  {
   "cell_type": "code",
   "execution_count": 1,
   "id": "bc0d2c4c",
   "metadata": {},
   "outputs": [
    {
     "name": "stderr",
     "output_type": "stream",
     "text": [
      "C:\\Users\\Bashi\\.conda\\envs\\solaris\\lib\\site-packages\\tensorflow\\python\\framework\\dtypes.py:526: FutureWarning: Passing (type, 1) or '1type' as a synonym of type is deprecated; in a future version of numpy, it will be understood as (type, (1,)) / '(1,)type'.\n",
      "  _np_qint8 = np.dtype([(\"qint8\", np.int8, 1)])\n",
      "C:\\Users\\Bashi\\.conda\\envs\\solaris\\lib\\site-packages\\tensorflow\\python\\framework\\dtypes.py:527: FutureWarning: Passing (type, 1) or '1type' as a synonym of type is deprecated; in a future version of numpy, it will be understood as (type, (1,)) / '(1,)type'.\n",
      "  _np_quint8 = np.dtype([(\"quint8\", np.uint8, 1)])\n",
      "C:\\Users\\Bashi\\.conda\\envs\\solaris\\lib\\site-packages\\tensorflow\\python\\framework\\dtypes.py:528: FutureWarning: Passing (type, 1) or '1type' as a synonym of type is deprecated; in a future version of numpy, it will be understood as (type, (1,)) / '(1,)type'.\n",
      "  _np_qint16 = np.dtype([(\"qint16\", np.int16, 1)])\n",
      "C:\\Users\\Bashi\\.conda\\envs\\solaris\\lib\\site-packages\\tensorflow\\python\\framework\\dtypes.py:529: FutureWarning: Passing (type, 1) or '1type' as a synonym of type is deprecated; in a future version of numpy, it will be understood as (type, (1,)) / '(1,)type'.\n",
      "  _np_quint16 = np.dtype([(\"quint16\", np.uint16, 1)])\n",
      "C:\\Users\\Bashi\\.conda\\envs\\solaris\\lib\\site-packages\\tensorflow\\python\\framework\\dtypes.py:530: FutureWarning: Passing (type, 1) or '1type' as a synonym of type is deprecated; in a future version of numpy, it will be understood as (type, (1,)) / '(1,)type'.\n",
      "  _np_qint32 = np.dtype([(\"qint32\", np.int32, 1)])\n",
      "C:\\Users\\Bashi\\.conda\\envs\\solaris\\lib\\site-packages\\tensorflow\\python\\framework\\dtypes.py:535: FutureWarning: Passing (type, 1) or '1type' as a synonym of type is deprecated; in a future version of numpy, it will be understood as (type, (1,)) / '(1,)type'.\n",
      "  np_resource = np.dtype([(\"resource\", np.ubyte, 1)])\n"
     ]
    }
   ],
   "source": [
    "import numpy as np\n",
    "from PIL import Image\n",
    "Image.MAX_IMAGE_PIXELS = None\n",
    "import os\n",
    "import glob\n",
    "import solaris as sol\n",
    "import os\n",
    "import glob\n",
    "import gdal\n",
    "from tqdm import tqdm\n",
    "import cv2\n",
    "import shutil\n",
    "import pandas as pd\n",
    "import numpy as np\n",
    "from skimage.morphology import square, dilation\n",
    "from matplotlib import pyplot as plt\n",
    "from solaris.eval.iou import calculate_iou\n",
    "import geopandas as gpd"
   ]
  },
  {
   "cell_type": "code",
   "execution_count": 5,
   "id": "45539225",
   "metadata": {},
   "outputs": [],
   "source": [
    "annotation_path= \"E:/cowc/masks/Original Masks Png/valid/\"  ##cowc ground_truth_sets location after download\n",
    "os.chdir(annotation_path)\n",
    "annotations=glob.glob(\"*.png\")\n",
    "\n",
    "for annotation in annotations:\n",
    "    anno_path = os.path.join(annotation_path,annotation)\n",
    "    im = Image.open(anno_path)\n",
    "    data = np.asarray(im)\n",
    "    data = data[:,:]\n",
    "    y_ind, x_ind= data.nonzero()\n",
    "#     data = data[:,:,0:3]\n",
    "#     y_ind, x_ind, rgbindex = data.nonzero()\n",
    "    \n",
    "    # define bbox given x, y and ensure bbox is within image bounds\n",
    "    def get_bbox(x, y, x_max, y_max):\n",
    "        x1 = max(0, x - 20)     # returns zero if x-20 is negative\n",
    "        x2 = min(x_max, x + 20) # returns x_max if x+20 is greater than x_max\n",
    "        y1 = max(0, y - 20)\n",
    "        y2 = min(y_max, y + 20)\n",
    "        return x1, y1, x2, y2\n",
    "\n",
    "    #x1, y1, x2, y2 = get_bbox(x_ind[0], y_ind[0], im.width, im.height)\n",
    "    \n",
    "    #img_path = \"E:/cowc/tiles/Image jpgs\"\n",
    "    E_img_path = os.path.join(annotation.replace('_Annotated_Cars', ''))\n",
    "    #E_img_path = os.path.join(img_path,annotation.replace('_Annotated_Cars', ''))\n",
    "    #os.chdir(img_path)\n",
    "    #images=glob.glob(\"*.png\")\n",
    "    with open('annotations_valid.csv', 'a') as f:\n",
    "        #for image in images:\n",
    "            #image_path = os.path.join(img_path,image)\n",
    "        for x, y in zip(x_ind, y_ind):\n",
    "            x1, y1, x2, y2 = get_bbox(x, y, im.width, im.height)\n",
    "            line = f'{E_img_path},{x1},{y1},{x2},{y2},car\\n'\n",
    "            f.write(line)"
   ]
  }
 ],
 "metadata": {
  "kernelspec": {
   "display_name": "Python 3",
   "language": "python",
   "name": "python3"
  },
  "language_info": {
   "codemirror_mode": {
    "name": "ipython",
    "version": 3
   },
   "file_extension": ".py",
   "mimetype": "text/x-python",
   "name": "python",
   "nbconvert_exporter": "python",
   "pygments_lexer": "ipython3",
   "version": "3.7.10"
  }
 },
 "nbformat": 4,
 "nbformat_minor": 5
}
