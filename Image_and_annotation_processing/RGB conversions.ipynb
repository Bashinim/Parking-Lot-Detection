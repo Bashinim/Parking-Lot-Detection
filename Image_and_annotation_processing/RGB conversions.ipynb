{
 "cells": [
  {
   "cell_type": "code",
   "execution_count": 1,
   "id": "a3646975",
   "metadata": {},
   "outputs": [],
   "source": [
    "# import the necessary packages\n",
    "import numpy as np\n",
    "import pandas as pd\n",
    "import cv2\n",
    "import csv\n",
    "import itertools"
   ]
  },
  {
   "cell_type": "code",
   "execution_count": 2,
   "id": "98ae1a8d",
   "metadata": {},
   "outputs": [],
   "source": [
    "# Reading the image file and saving the colour bands in to 4 seperate bands\n",
    "image = cv2.imread(\"F:/Berlin-DOP_2020/test/dop10rgbi_391_5824_1_be_2020.tif\", cv2.IMREAD_UNCHANGED)\n",
    "(R, G, B, N) = cv2.split(image)"
   ]
  },
  {
   "cell_type": "code",
   "execution_count": 3,
   "id": "49a9d03f",
   "metadata": {},
   "outputs": [],
   "source": [
    "# show each channel individually\n",
    "# cv2.imshow(\"Red\", R)\n",
    "# cv2.imshow(\"Green\", G)\n",
    "# cv2.imshow(\"Blue\", B)\n",
    "# cv2.waitKey(0)"
   ]
  },
  {
   "cell_type": "code",
   "execution_count": 4,
   "id": "79fc0b5f",
   "metadata": {},
   "outputs": [],
   "source": [
    "# merge the image back together again\n",
    "#merged = cv2.merge([R, G, B, N])\n",
    "# cv2.imshow(\"Merged\", merged)\n",
    "# cv2.waitKey(0)\n",
    "# cv2.destroyAllWindows()"
   ]
  },
  {
   "cell_type": "code",
   "execution_count": 5,
   "id": "ce097424",
   "metadata": {},
   "outputs": [],
   "source": [
    "# Writing the merged image to a png file\n",
    "#cv2.imwrite('F:/Berlin-DOP_2020/test/dop10rgbi_391_5824_1_be_2020.png', merged)"
   ]
  },
  {
   "cell_type": "code",
   "execution_count": 6,
   "id": "260acc15",
   "metadata": {},
   "outputs": [],
   "source": [
    "# Checking if the bands are saved properly\n",
    "# xx = cv2.imread(\"F:/Berlin-DOP_2020/test/dop10rgbi_368_5808_1_be_2020.png\", cv2.IMREAD_UNCHANGED)\n",
    "# (R_1, G_2, B_3, N_4) = cv2.split(image)\n",
    "# N_4.shape"
   ]
  },
  {
   "cell_type": "code",
   "execution_count": 7,
   "id": "9fb6442d",
   "metadata": {},
   "outputs": [
    {
     "name": "stdout",
     "output_type": "stream",
     "text": [
      "391000 392000 5824000 5825000\n"
     ]
    }
   ],
   "source": [
    "# Reading the roughness indexes\n",
    "df = pd.read_csv('B:/Masters/Thesis/Git/Point_cloud.csv')\n",
    "\n",
    "# Reading the tiff file name\n",
    "file_name = 'dop10rgbi_391_5824_1_be_2020'\n",
    "\n",
    "# Data processing steps\n",
    "df = df.rename(columns={'0': 'x', '1': 'y', '2': 'values' })\n",
    "df['values'] =  df['values'].apply(lambda x: x.replace('[','').replace(']',''))\n",
    "df['values'] = df['values'].astype(float)\n",
    "\n",
    "# Taking the x and y limits of the image\n",
    "x_start = (int(file_name.split('_')[1]))*1000\n",
    "x_end = x_start+1000\n",
    "y_start = (int(file_name.split('_')[2]))*1000\n",
    "y_end = y_start +1000\n",
    "\n",
    "print(x_start, x_end, y_start, y_end)"
   ]
  },
  {
   "cell_type": "code",
   "execution_count": 8,
   "id": "b63289b8",
   "metadata": {},
   "outputs": [],
   "source": [
    "# Making a dataframe to include all pixels within the range\n",
    "X = np.arange(x_start,x_end)\n",
    "Y = np.arange(y_start,y_end)\n",
    "\n",
    "combs = np.array(list(itertools.product(X,Y)))\n",
    "combs_df = pd.DataFrame(combs)\n",
    "combs_df.columns = ['x_round', 'y_round']\n",
    "combs_df.dtypes\n",
    "\n",
    "df['x_round'] = df.x.round(0).astype('int')\n",
    "df['y_round'] = df.y.round(0).astype('int')\n",
    "df[(df.x_round == 391000) & (df.x_round == 8524000)]\n",
    "df\n",
    "\n",
    "final = combs_df.merge(right = df\n",
    "               , right_on = ['x_round', 'y_round']\n",
    "               , left_on = ['x_round', 'y_round']\n",
    "               , how = 'left')"
   ]
  },
  {
   "cell_type": "code",
   "execution_count": 9,
   "id": "0664378b",
   "metadata": {},
   "outputs": [],
   "source": [
    "# Filling the missing values\n",
    "final[\"values\"] = final[\"values\"].fillna(method='ffill')\n",
    "\n",
    "# Removing duplicate x y values and replacing them with the average value\n",
    "final = final.groupby(['x_round','y_round']).agg({'values': 'mean'}).reset_index()"
   ]
  },
  {
   "cell_type": "code",
   "execution_count": 10,
   "id": "ff7622c5",
   "metadata": {},
   "outputs": [],
   "source": [
    "# Reshape the values to create a 2D matrix\n",
    "reshaped = final[\"values\"].values.reshape((1000, 1000))\n",
    "\n",
    "# Changing the resolution of the roughness index to match the resolution of the original image\n",
    "resized = cv2.resize(reshaped, (10000,10000), interpolation=cv2.INTER_CUBIC)\n",
    "\n",
    "# Scaling the roughness index to be within the 0-255 range\n",
    "scaled = ((resized - resized.min()) * (1/(resized.max() - resized.min()) * 255)).astype('uint8')"
   ]
  },
  {
   "cell_type": "code",
   "execution_count": 11,
   "id": "9f4e4ba6",
   "metadata": {},
   "outputs": [],
   "source": [
    "rotated = cv2.rotate(scaled, cv2.ROTATE_90_COUNTERCLOCKWISE)\n",
    "# cv2.imshow(\"Final_merged\", scaled)\n",
    "# cv2.waitKey(0)"
   ]
  },
  {
   "cell_type": "code",
   "execution_count": 12,
   "id": "96c60894",
   "metadata": {},
   "outputs": [],
   "source": [
    "# Final_merged = cv2.merge([R, G, B])\n",
    "# #cv2.imshow(\"Final_merged\", Final_merged)\n",
    "# cv2.imwrite('F:/Berlin-DOP_2020/test/dop10rgbi_391_5824_1_be_2020_rgb.png', Final_merged)"
   ]
  },
  {
   "cell_type": "code",
   "execution_count": 13,
   "id": "327339f4",
   "metadata": {},
   "outputs": [],
   "source": [
    "# cv2.imwrite('F:/Berlin-DOP_2020/test/dop10rgbi_391_5824_1_be_2020_point.png', rotated)"
   ]
  },
  {
   "cell_type": "code",
   "execution_count": 14,
   "id": "0a4abb0b",
   "metadata": {},
   "outputs": [
    {
     "data": {
      "text/plain": [
       "True"
      ]
     },
     "execution_count": 14,
     "metadata": {},
     "output_type": "execute_result"
    }
   ],
   "source": [
    "# # Merging all channels to create the final image\n",
    "Final_merged = cv2.merge([N,R,G,B])\n",
    "\n",
    "# #Viewing the final image\n",
    "# # cv2.imshow(\"Final_merged\", Final_merged)\n",
    "# # cv2.waitKey(0)\n",
    "\n",
    "# # Saving the final image\n",
    "cv2.imwrite('F:/Berlin-DOP_2020/test/dop10rgbi_391_5824_1_be_2020_P_INTER_CUBIC.png', rotated)\n"
   ]
  },
  {
   "cell_type": "code",
   "execution_count": 15,
   "id": "3027d33e",
   "metadata": {},
   "outputs": [],
   "source": [
    "# del Final_merged"
   ]
  }
 ],
 "metadata": {
  "kernelspec": {
   "display_name": "Python 3",
   "language": "python",
   "name": "python3"
  },
  "language_info": {
   "codemirror_mode": {
    "name": "ipython",
    "version": 3
   },
   "file_extension": ".py",
   "mimetype": "text/x-python",
   "name": "python",
   "nbconvert_exporter": "python",
   "pygments_lexer": "ipython3",
   "version": "3.7.10"
  }
 },
 "nbformat": 4,
 "nbformat_minor": 5
}
