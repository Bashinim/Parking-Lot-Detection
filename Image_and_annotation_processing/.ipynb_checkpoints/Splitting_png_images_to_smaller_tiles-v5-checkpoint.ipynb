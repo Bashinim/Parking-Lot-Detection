{
 "cells": [
  {
   "cell_type": "code",
   "execution_count": null,
   "id": "036f9e92",
   "metadata": {},
   "outputs": [],
   "source": [
    "import os\n",
    "import glob\n",
    "import gdal\n",
    "from tqdm import tqdm\n",
    "import cv2\n",
    "import shutil\n",
    "import pandas as pd\n",
    "import numpy as np\n",
    "from skimage.morphology import square, dilation\n",
    "from matplotlib import pyplot as plt\n",
    "import geopandas as gpd\n",
    "from PIL import Image"
   ]
  },
  {
   "cell_type": "code",
   "execution_count": null,
   "id": "8242669b",
   "metadata": {},
   "outputs": [],
   "source": [
    "root= \"F:/Berlin-DOP_2020/Road_side/New folder\"  #ground truth dataset with tiles of res 10000*10000\n",
    "images_out= \"F:/Berlin-DOP_2020/Road_side/New folder/Split\" #output location for splitted images"
   ]
  },
  {
   "cell_type": "code",
   "execution_count": null,
   "id": "af5144dc",
   "metadata": {},
   "outputs": [],
   "source": [
    "def geo_tile(untiled_image_dir, tiles_out_dir, tile_size=500,\n",
    "             overlap=0.0, search=\".png\",Output_Channels=[1,2,3]):\n",
    "    \"\"\"Function to tile a set of images into smaller square chunks with embedded georeferencing info\n",
    "    allowing an end user to specify the size of the tile, the overlap of each tile, and when to discard\n",
    "    a tile if it contains blank data.\n",
    "    Arguments\n",
    "    ---------\n",
    "    untiled_image_dir : str\n",
    "        Directory containing full or partial image strips that are untiled.\n",
    "        Imagery must be georeferenced.\n",
    "    tiles_out_dir : str\n",
    "        Output directory for tiled imagery.\n",
    "    tile_size : int\n",
    "        Extent of each tile in both X and Y directions in units of pixels.\n",
    "        Defaults to ``544`` .\n",
    "    overlap : float\n",
    "        The amount of overlap of each tile in float format.  Should range between 0 and <1.\n",
    "        Defaults to ``0.2`` .\n",
    "    search : str\n",
    "        A string with a wildcard to search for files by type\n",
    "        Defaults to \".png\"\n",
    "    Output_Channels : list\n",
    "        A list of the number of channels to output, 1 indexed.\n",
    "        Defaults to ``[1,2,3]`` .\n",
    "    Returns\n",
    "    -------\n",
    "    Tiled imagery directly output to the tiles_out_dir\n",
    "    \"\"\"\n",
    "    if not os.path.exists(tiles_out_dir):\n",
    "        os.makedirs(tiles_out_dir)\n",
    "    \n",
    "    os.chdir(untiled_image_dir)\n",
    "    search2 = \"*\" + search\n",
    "    images = glob.glob(search2)\n",
    "    tile_size = int(tile_size)\n",
    "\n",
    "    for stackclip in images:\n",
    "        print(stackclip)\n",
    "        interp = gdal.Open(os.path.abspath(stackclip))\n",
    "        width = int(interp.RasterXSize)\n",
    "        height = int(interp.RasterYSize)\n",
    "        count = 0\n",
    "        for i in range(0, width, int(tile_size * (1 - overlap))):\n",
    "            for j in range(0, height, int(tile_size * (1 - overlap))):\n",
    "                Chip = [i, j, tile_size, tile_size]\n",
    "                count += 1\n",
    "                # Adding the name according to the longitude and latitude values (EPSG:25833)\n",
    "                name_x = (int(stackclip.split('_')[1])*1000 + (i/500)*50) \n",
    "                name_y = (int(stackclip.split('_')[2])*100 + ((9500-j)/500)*5)*10\n",
    "\n",
    "#                 Tileout = tiles_out_dir + \"/\" + \\\n",
    "#                     stackclip.split(search)[0] + \"_tile_\" + str(count) + \".jpeg\"\n",
    "                Tileout = tiles_out_dir + \"/\" + \\\n",
    "                str(stackclip.split('_')[0]) + \"_\" + str(name_x) + \"_\"+ str(name_y) +\"_tile_\" + str(count) + \".jpeg\"\n",
    "                output = gdal.Translate(Tileout, stackclip, srcWin=Chip, bandList=Output_Channels)\n",
    "                del output\n",
    "    print(\"Done\")"
   ]
  },
  {
   "cell_type": "code",
   "execution_count": null,
   "id": "3be4158e",
   "metadata": {
    "scrolled": true
   },
   "outputs": [],
   "source": [
    "os.chdir(root)\n",
    "dirs=glob.glob(f\"{root}/\")\n",
    "\n",
    "#print(dirs)\n",
    "for directory in dirs:\n",
    "    s = directory.replace('\\\\','/')\n",
    "    print(s)\n",
    "    geo_tile(s, images_out, tile_size=500, overlap=0.0,search=\"*.png\",Output_Channels=[1,2,3]) #No overlap for testing.\n",
    "    "
   ]
  }
 ],
 "metadata": {
  "kernelspec": {
   "display_name": "Python 3 (ipykernel)",
   "language": "python",
   "name": "python3"
  },
  "language_info": {
   "codemirror_mode": {
    "name": "ipython",
    "version": 3
   },
   "file_extension": ".py",
   "mimetype": "text/x-python",
   "name": "python",
   "nbconvert_exporter": "python",
   "pygments_lexer": "ipython3",
   "version": "3.8.5"
  }
 },
 "nbformat": 4,
 "nbformat_minor": 5
}
