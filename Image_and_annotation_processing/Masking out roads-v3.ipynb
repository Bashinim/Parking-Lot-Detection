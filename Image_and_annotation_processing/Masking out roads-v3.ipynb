{
 "cells": [
  {
   "cell_type": "code",
   "execution_count": 1,
   "id": "e0599651",
   "metadata": {},
   "outputs": [],
   "source": [
    "# Importing libraries\n",
    "from PIL import Image\n",
    "import PIL\n",
    "PIL.Image.MAX_IMAGE_PIXELS = 400000000\n",
    "import cv2\n",
    "import numpy as np"
   ]
  },
  {
   "cell_type": "code",
   "execution_count": 2,
   "id": "2afb7dce",
   "metadata": {},
   "outputs": [
    {
     "data": {
      "text/plain": [
       "True"
      ]
     },
     "execution_count": 2,
     "metadata": {},
     "output_type": "execute_result"
    }
   ],
   "source": [
    "#Applying the mask to the image\n",
    "\n",
    "img = cv2.imread('F:/Berlin-DOP_2020/Processed images_RGN/dop10rgbi_392_5821_1_be_2020.png')\n",
    "mask = cv2.imread('F:/Berlin-DOP_2020/Processed images_RGN/dop10rgbi_392_5821_1_be_2020_roads_mask.png',0)\n",
    "res = cv2.bitwise_and(img,img,mask = mask)\n",
    "\n",
    "# Saving the putput\n",
    "cv2.imwrite('F:/Berlin-DOP_2020/Processed images_RGN/Maskeddop10rgbi_392_5821_1_be_2020.png', res)"
   ]
  }
 ],
 "metadata": {
  "kernelspec": {
   "display_name": "Python 3 (ipykernel)",
   "language": "python",
   "name": "python3"
  },
  "language_info": {
   "codemirror_mode": {
    "name": "ipython",
    "version": 3
   },
   "file_extension": ".py",
   "mimetype": "text/x-python",
   "name": "python",
   "nbconvert_exporter": "python",
   "pygments_lexer": "ipython3",
   "version": "3.8.11"
  }
 },
 "nbformat": 4,
 "nbformat_minor": 5
}
