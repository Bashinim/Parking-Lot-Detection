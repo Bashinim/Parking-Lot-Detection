{
 "cells": [
  {
   "cell_type": "code",
   "execution_count": 1,
   "id": "2297c2a3",
   "metadata": {},
   "outputs": [],
   "source": [
    "# Importing libraries and modules\n",
    "\n",
    "import numpy as np\n",
    "import matplotlib.pyplot as plt\n",
    "import geopandas as gpd\n",
    "import pandas as pd\n",
    "from sklearn.cluster import KMeans\n",
    "import cartopy.crs as ccrs\n",
    "import matplotlib.patches as mpatches\n",
    "from shapely.affinity import translate"
   ]
  },
  {
   "cell_type": "code",
   "execution_count": 2,
   "id": "45a4df6c",
   "metadata": {},
   "outputs": [],
   "source": [
    "# Reading the file with metrices\n",
    "df_parking = gpd.read_file(\"F:/Berlin-DOP_2020/Processed images_new/test_2_needed.geojson\", crs='EPSG:25833')"
   ]
  },
  {
   "cell_type": "code",
   "execution_count": 3,
   "id": "cdb7c894",
   "metadata": {},
   "outputs": [],
   "source": [
    "# Renaming the column heading\n",
    "df_parking = df_parking.rename(columns={'True or False': 'True_or_False'})"
   ]
  },
  {
   "cell_type": "code",
   "execution_count": 4,
   "id": "65151bfa",
   "metadata": {},
   "outputs": [],
   "source": [
    "# Adding a buffer of 1 meters to parking polygons\n",
    "df_parking.geometry = df_parking.geometry.buffer(1)"
   ]
  },
  {
   "cell_type": "code",
   "execution_count": 5,
   "id": "af5370b9",
   "metadata": {},
   "outputs": [
    {
     "data": {
      "text/html": [
       "<div>\n",
       "<style scoped>\n",
       "    .dataframe tbody tr th:only-of-type {\n",
       "        vertical-align: middle;\n",
       "    }\n",
       "\n",
       "    .dataframe tbody tr th {\n",
       "        vertical-align: top;\n",
       "    }\n",
       "\n",
       "    .dataframe thead th {\n",
       "        text-align: right;\n",
       "    }\n",
       "</style>\n",
       "<table border=\"1\" class=\"dataframe\">\n",
       "  <thead>\n",
       "    <tr style=\"text-align: right;\">\n",
       "      <th></th>\n",
       "      <th>fid</th>\n",
       "      <th>label</th>\n",
       "      <th>parking_area_m2</th>\n",
       "      <th>nearest_geometry_dis</th>\n",
       "      <th>geometry</th>\n",
       "    </tr>\n",
       "  </thead>\n",
       "  <tbody>\n",
       "    <tr>\n",
       "      <th>0</th>\n",
       "      <td>1</td>\n",
       "      <td>PK-space-occupied</td>\n",
       "      <td>10.5250</td>\n",
       "      <td>9.398797</td>\n",
       "      <td>POLYGON ((391033.600 5824043.550, 391032.800 5...</td>\n",
       "    </tr>\n",
       "    <tr>\n",
       "      <th>1</th>\n",
       "      <td>2</td>\n",
       "      <td>PK-space-occupied</td>\n",
       "      <td>12.2575</td>\n",
       "      <td>26.399800</td>\n",
       "      <td>POLYGON ((391037.110 5824009.979, 391036.217 5...</td>\n",
       "    </tr>\n",
       "    <tr>\n",
       "      <th>2</th>\n",
       "      <td>3</td>\n",
       "      <td>PK-space-occupied</td>\n",
       "      <td>20.5600</td>\n",
       "      <td>1.126644</td>\n",
       "      <td>POLYGON ((391029.366 5824041.150, 391029.398 5...</td>\n",
       "    </tr>\n",
       "    <tr>\n",
       "      <th>3</th>\n",
       "      <td>4</td>\n",
       "      <td>PK-space-occupied</td>\n",
       "      <td>11.0450</td>\n",
       "      <td>10.902318</td>\n",
       "      <td>POLYGON ((391018.550 5824051.000, 391020.850 5...</td>\n",
       "    </tr>\n",
       "    <tr>\n",
       "      <th>4</th>\n",
       "      <td>5</td>\n",
       "      <td>PK-space-occupied</td>\n",
       "      <td>14.6600</td>\n",
       "      <td>1.126644</td>\n",
       "      <td>POLYGON ((391031.536 5824034.864, 391030.336 5...</td>\n",
       "    </tr>\n",
       "    <tr>\n",
       "      <th>...</th>\n",
       "      <td>...</td>\n",
       "      <td>...</td>\n",
       "      <td>...</td>\n",
       "      <td>...</td>\n",
       "      <td>...</td>\n",
       "    </tr>\n",
       "    <tr>\n",
       "      <th>8971</th>\n",
       "      <td>8972</td>\n",
       "      <td>PK-space-occupied</td>\n",
       "      <td>2.9750</td>\n",
       "      <td>21.742114</td>\n",
       "      <td>POLYGON ((392978.800 5824893.250, 392978.400 5...</td>\n",
       "    </tr>\n",
       "    <tr>\n",
       "      <th>8972</th>\n",
       "      <td>8973</td>\n",
       "      <td>PK-space-occupied</td>\n",
       "      <td>7.9675</td>\n",
       "      <td>2.433225</td>\n",
       "      <td>POLYGON ((392994.200 5824926.750, 392993.600 5...</td>\n",
       "    </tr>\n",
       "    <tr>\n",
       "      <th>8973</th>\n",
       "      <td>8974</td>\n",
       "      <td>PK-space-occupied</td>\n",
       "      <td>18.2300</td>\n",
       "      <td>3.853211</td>\n",
       "      <td>POLYGON ((392993.700 5824931.450, 392993.300 5...</td>\n",
       "    </tr>\n",
       "    <tr>\n",
       "      <th>8974</th>\n",
       "      <td>8975</td>\n",
       "      <td>PK-space-occupied</td>\n",
       "      <td>12.6250</td>\n",
       "      <td>21.742114</td>\n",
       "      <td>POLYGON ((392958.625 5824906.988, 392957.925 5...</td>\n",
       "    </tr>\n",
       "    <tr>\n",
       "      <th>8975</th>\n",
       "      <td>8976</td>\n",
       "      <td>PK-space-empty</td>\n",
       "      <td>8.6100</td>\n",
       "      <td>2.433225</td>\n",
       "      <td>POLYGON ((392992.179 5824929.057, 392990.129 5...</td>\n",
       "    </tr>\n",
       "  </tbody>\n",
       "</table>\n",
       "<p>8976 rows × 5 columns</p>\n",
       "</div>"
      ],
      "text/plain": [
       "       fid              label  parking_area_m2  nearest_geometry_dis  \\\n",
       "0        1  PK-space-occupied          10.5250              9.398797   \n",
       "1        2  PK-space-occupied          12.2575             26.399800   \n",
       "2        3  PK-space-occupied          20.5600              1.126644   \n",
       "3        4  PK-space-occupied          11.0450             10.902318   \n",
       "4        5  PK-space-occupied          14.6600              1.126644   \n",
       "...    ...                ...              ...                   ...   \n",
       "8971  8972  PK-space-occupied           2.9750             21.742114   \n",
       "8972  8973  PK-space-occupied           7.9675              2.433225   \n",
       "8973  8974  PK-space-occupied          18.2300              3.853211   \n",
       "8974  8975  PK-space-occupied          12.6250             21.742114   \n",
       "8975  8976     PK-space-empty           8.6100              2.433225   \n",
       "\n",
       "                                               geometry  \n",
       "0     POLYGON ((391033.600 5824043.550, 391032.800 5...  \n",
       "1     POLYGON ((391037.110 5824009.979, 391036.217 5...  \n",
       "2     POLYGON ((391029.366 5824041.150, 391029.398 5...  \n",
       "3     POLYGON ((391018.550 5824051.000, 391020.850 5...  \n",
       "4     POLYGON ((391031.536 5824034.864, 391030.336 5...  \n",
       "...                                                 ...  \n",
       "8971  POLYGON ((392978.800 5824893.250, 392978.400 5...  \n",
       "8972  POLYGON ((392994.200 5824926.750, 392993.600 5...  \n",
       "8973  POLYGON ((392993.700 5824931.450, 392993.300 5...  \n",
       "8974  POLYGON ((392958.625 5824906.988, 392957.925 5...  \n",
       "8975  POLYGON ((392992.179 5824929.057, 392990.129 5...  \n",
       "\n",
       "[8976 rows x 5 columns]"
      ]
     },
     "execution_count": 5,
     "metadata": {},
     "output_type": "execute_result"
    }
   ],
   "source": [
    "df_parking"
   ]
  },
  {
   "cell_type": "code",
   "execution_count": 6,
   "id": "1e3691a6",
   "metadata": {},
   "outputs": [
    {
     "name": "stderr",
     "output_type": "stream",
     "text": [
      "C:\\ProgramData\\Anaconda3\\envs\\geopandas\\lib\\site-packages\\pyproj\\crs\\crs.py:53: FutureWarning: '+init=<authority>:<code>' syntax is deprecated. '<authority>:<code>' is the preferred initialization method. When making the change, be mindful of axis order changes: https://pyproj4.github.io/pyproj/stable/gotchas.html#axis-order-changes-in-proj-6\n",
      "  return _prepare_from_string(\" \".join(pjargs))\n"
     ]
    }
   ],
   "source": [
    "# Creating a new fataframe that has union of overlapping geometries\n",
    "geoms = df_parking.geometry.unary_union\n",
    "df = gpd.GeoDataFrame(geometry=[geoms])\n",
    "df = df.explode().reset_index(drop=True)\n",
    "df.set_geometry = df.geometry\n",
    "df.crs = {'init' :'epsg:25833'}"
   ]
  },
  {
   "cell_type": "code",
   "execution_count": null,
   "id": "b04201ba",
   "metadata": {},
   "outputs": [],
   "source": [
    "#df_parking = df_parking.drop([\"index_right\"], axis=1)"
   ]
  },
  {
   "cell_type": "code",
   "execution_count": 7,
   "id": "e99c8cf4",
   "metadata": {},
   "outputs": [
    {
     "data": {
      "text/plain": [
       "<Projected CRS: EPSG:25833>\n",
       "Name: ETRS89 / UTM zone 33N\n",
       "Axis Info [cartesian]:\n",
       "- E[east]: Easting (metre)\n",
       "- N[north]: Northing (metre)\n",
       "Area of Use:\n",
       "- name: Europe - 12°E to 18°E and ETRS89 by country\n",
       "- bounds: (12.0, 46.4, 18.01, 84.01)\n",
       "Coordinate Operation:\n",
       "- name: UTM zone 33N\n",
       "- method: Transverse Mercator\n",
       "Datum: European Terrestrial Reference System 1989\n",
       "- Ellipsoid: GRS 1980\n",
       "- Prime Meridian: Greenwich"
      ]
     },
     "execution_count": 7,
     "metadata": {},
     "output_type": "execute_result"
    }
   ],
   "source": [
    "df.crs"
   ]
  },
  {
   "cell_type": "code",
   "execution_count": 8,
   "id": "297ca12d",
   "metadata": {},
   "outputs": [],
   "source": [
    "# Taking the spatial join of the dataframes\n",
    "merged_df = gpd.sjoin(df,df_parking, how=\"inner\")\n",
    "\n",
    "merged_df[\"parking_area_m2\"] = merged_df['geometry'].area\n",
    "# Saving the file\n",
    "merged_df.to_file(\"F:/Berlin-DOP_2020/Processed images_new/test_2.gpkg\", Layer= \"Predict_dissolved\",crs='EPSG:25833',driver=\"GPKG\")"
   ]
  }
 ],
 "metadata": {
  "kernelspec": {
   "display_name": "Python 3 (ipykernel)",
   "language": "python",
   "name": "python3"
  },
  "language_info": {
   "codemirror_mode": {
    "name": "ipython",
    "version": 3
   },
   "file_extension": ".py",
   "mimetype": "text/x-python",
   "name": "python",
   "nbconvert_exporter": "python",
   "pygments_lexer": "ipython3",
   "version": "3.9.7"
  }
 },
 "nbformat": 4,
 "nbformat_minor": 5
}
