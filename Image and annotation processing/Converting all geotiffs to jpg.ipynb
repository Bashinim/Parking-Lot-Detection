{
 "cells": [
  {
   "cell_type": "code",
   "execution_count": 1,
   "id": "e9bf22b5",
   "metadata": {},
   "outputs": [],
   "source": [
    "import os\n",
    "import glob\n",
    "import rasterio\n",
    "# from tqdm import tqdm\n",
    "# import cv2\n",
    "# import shutil\n",
    "# import pandas as pd\n",
    "# import numpy as np\n",
    "# from skimage.morphology import square, dilation\n",
    "# from matplotlib import pyplot as plt\n",
    "# #from solaris.eval.iou import calculate_iou\n",
    "# import geopandas as gpd"
   ]
  },
  {
   "cell_type": "code",
   "execution_count": 4,
   "id": "fb5831a7",
   "metadata": {},
   "outputs": [],
   "source": [
    "image_path= \"B:/Masters/Thesis/QGIS projects/DOP_2020_tiff/\"  ##cowc ground_truth_sets location after download\n",
    "os.chdir(image_path)\n",
    "images=glob.glob(\"*.tif\")\n",
    "\n",
    "for image in images:\n",
    "    with rasterio.open(image) as src:\n",
    "        arr = src.read(masked=True)\n",
    "        # Write to jpeg file\n",
    "        profile = src.profile\n",
    "        profile[\"count\"] = 3\n",
    "        profile[\"driver\"] = \"jpeg\"\n",
    "        with rasterio.open(image.replace(\".tif\", \".jpeg\"), \"w\", **profile) as dst:\n",
    "            dst.write(arr[:3])"
   ]
  }
 ],
 "metadata": {
  "kernelspec": {
   "display_name": "Python 3",
   "language": "python",
   "name": "python3"
  },
  "language_info": {
   "codemirror_mode": {
    "name": "ipython",
    "version": 3
   },
   "file_extension": ".py",
   "mimetype": "text/x-python",
   "name": "python",
   "nbconvert_exporter": "python",
   "pygments_lexer": "ipython3",
   "version": "3.7.10"
  }
 },
 "nbformat": 4,
 "nbformat_minor": 5
}
