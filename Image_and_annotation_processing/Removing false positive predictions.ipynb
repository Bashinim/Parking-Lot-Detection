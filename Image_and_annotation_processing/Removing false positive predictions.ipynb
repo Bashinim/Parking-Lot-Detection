{
 "cells": [
  {
   "cell_type": "code",
   "execution_count": null,
   "id": "b3e3ec2d",
   "metadata": {},
   "outputs": [],
   "source": [
    "# Importing libraries and modules\n",
    "\n",
    "import geopandas as gpd\n",
    "from geopandas.tools import sjoin\n",
    "import numpy as np\n",
    "import pandas as pd\n",
    "import matplotlib.pyplot as plt\n",
    "from shapely.geometry import Polygon, LineString, Point\n",
    "from shapely import wkt\n",
    "from scipy.spatial import cKDTree\n",
    "from shapely.geometry import Point\n",
    "from shapely.ops import nearest_points\n",
    "import geojson"
   ]
  },
  {
   "cell_type": "code",
   "execution_count": null,
   "id": "8fd9a6fa",
   "metadata": {},
   "outputs": [],
   "source": [
    "# Reading parking spaces geojson file\n",
    "\n",
    "#df_parking = gpd.read_file(\"F:/Berlin-DOP_2020/Processed images_new/Final.gpkg\", crs='EPSG:25833', layer = \"Pred_distance_calculated\")\n",
    "df_parking = gpd.read_file(\"F:/Berlin-DOP_2020/Processed images_new/Predictions.geojson\", crs='EPSG:25833')"
   ]
  },
  {
   "cell_type": "code",
   "execution_count": null,
   "id": "8e16728d",
   "metadata": {},
   "outputs": [],
   "source": [
    "df_parking"
   ]
  },
  {
   "cell_type": "code",
   "execution_count": null,
   "id": "fd091275",
   "metadata": {},
   "outputs": [],
   "source": [
    "# Adding the polygon geometries to a seperate column\n",
    "df_parking['parking_polygon'] = df_parking['geometry']\n",
    "\n",
    "# Adding the area of parking to a seperate column\n",
    "df_parking[\"parking_area_m2\"] = df_parking['geometry'].area\n",
    "\n",
    "# Setting the center point of each parking as the geometry column\n",
    "df_parking.geometry = df_parking.representative_point()\n",
    "\n",
    "# Converting the parking polygons to objects\n",
    "df_parking['parking_polygon'] = df_parking['parking_polygon'].astype(str)"
   ]
  },
  {
   "cell_type": "code",
   "execution_count": null,
   "id": "7f59a2c5",
   "metadata": {},
   "outputs": [],
   "source": [
    "df_parking"
   ]
  },
  {
   "cell_type": "code",
   "execution_count": null,
   "id": "61419e68",
   "metadata": {},
   "outputs": [],
   "source": [
    "# Copying the parking dataframe to merge later\n",
    "df_parking_copy = df_parking.copy()\n",
    "\n",
    "# Adding two new columns to add nearest parking space geometry\n",
    "#df_parking.insert(5, 'nearest_geometry_index', None)\n",
    "df_parking.insert(5, 'nearest_geometry', None)"
   ]
  },
  {
   "cell_type": "code",
   "execution_count": null,
   "id": "051b5b81",
   "metadata": {},
   "outputs": [],
   "source": [
    "# Finding the nearest parking space\n",
    "for index, row in df_parking.iterrows():\n",
    "    point = row.geometry\n",
    "    multipoint = df_parking.drop(index, axis=0).geometry.unary_union\n",
    "    try:\n",
    "        queried_geom, nearest_geom = nearest_points(point, multipoint)\n",
    "        df_parking.loc[index, 'nearest_geometry'] = nearest_geom\n",
    "    except:\n",
    "        pass"
   ]
  },
  {
   "cell_type": "code",
   "execution_count": null,
   "id": "7303ae78",
   "metadata": {},
   "outputs": [],
   "source": [
    "# Setting the nerest geometry ad dataframe's geometry\n",
    "df_parking = df_parking.set_geometry(\"nearest_geometry\")\n",
    "df_parking['geometry'] = df_parking['geometry'].astype(str)"
   ]
  },
  {
   "cell_type": "code",
   "execution_count": null,
   "id": "7971c6e2",
   "metadata": {},
   "outputs": [],
   "source": [
    "df_parking"
   ]
  },
  {
   "cell_type": "code",
   "execution_count": null,
   "id": "58698418",
   "metadata": {},
   "outputs": [],
   "source": [
    "# Calculating the distance from each parking space to the nearest parking space\n",
    "df_parking[\"nearest_geometry_dis\"] = df_parking.distance(df_parking_copy)"
   ]
  },
  {
   "cell_type": "code",
   "execution_count": null,
   "id": "3f4ee0ce",
   "metadata": {},
   "outputs": [],
   "source": [
    "# Adding the other data columns\n",
    "df_merge = df_parking_copy.loc[:, [\"id\",\"geometry\",\"parking_area_m2\"]]"
   ]
  },
  {
   "cell_type": "code",
   "execution_count": null,
   "id": "702b7150",
   "metadata": {},
   "outputs": [],
   "source": [
    "df_merge = df_merge.rename(columns={'geometry': 'nearest_geometry', 'parking_area_m2': 'parking_area_nearest_m2'})"
   ]
  },
  {
   "cell_type": "code",
   "execution_count": null,
   "id": "533e790d",
   "metadata": {},
   "outputs": [],
   "source": [
    "# Joining the final dataframes\n",
    "Merged_df = df_parking.merge(df_merge, on='nearest_geometry', how='inner')"
   ]
  },
  {
   "cell_type": "code",
   "execution_count": null,
   "id": "4ba92a3f",
   "metadata": {},
   "outputs": [],
   "source": [
    "Merged_df"
   ]
  },
  {
   "cell_type": "code",
   "execution_count": null,
   "id": "92864384",
   "metadata": {},
   "outputs": [],
   "source": [
    "# Setting the geometry to the parking space polygons\n",
    "Merged_df['geometry'] = Merged_df['geometry'].astype(str)\n",
    "Merged_df['nearest_geometry'] = Merged_df['nearest_geometry'].astype(str)\n",
    "\n",
    "# Converting to a geo dataframe\n",
    "Merged_df['parking_polygon'] = Merged_df['parking_polygon'].apply(wkt.loads)\n",
    "Merged_df = gpd.GeoDataFrame(Merged_df, geometry=\"parking_polygon\", crs='EPSG:25833')"
   ]
  },
  {
   "cell_type": "code",
   "execution_count": null,
   "id": "e82616b8",
   "metadata": {},
   "outputs": [],
   "source": [
    "Merged_df.dtypes"
   ]
  },
  {
   "cell_type": "code",
   "execution_count": null,
   "id": "aa1631f8",
   "metadata": {},
   "outputs": [],
   "source": [
    "Merged_df.to_file(\"F:/Berlin-DOP_2020/Processed images_new/Final.gpkg\", crs='EPSG:25833', driver=\"GPKG\", Layer= \"Predict_with_info\")\n",
    "#Merged_df.to_file(\"F:/Berlin-DOP_2020/Processed images_new/parking_dist.gpkg\", driver=\"GPKG\", layer=\"parking_dist\")"
   ]
  },
  {
   "cell_type": "code",
   "execution_count": null,
   "id": "8446d262",
   "metadata": {},
   "outputs": [],
   "source": [
    "Merged_df"
   ]
  },
  {
   "cell_type": "code",
   "execution_count": null,
   "id": "a11ddbde",
   "metadata": {},
   "outputs": [],
   "source": []
  },
  {
   "cell_type": "code",
   "execution_count": null,
   "id": "c21c0025",
   "metadata": {},
   "outputs": [],
   "source": []
  },
  {
   "cell_type": "code",
   "execution_count": null,
   "id": "726cb843",
   "metadata": {},
   "outputs": [],
   "source": [
    "# def ckdnearest(gdA, gdB):\n",
    "#     assert len(gdA) > 0\n",
    "#     assert len(gdB) > 0\n",
    "#     nA = np.array(list(gdA.geometry.apply(lambda x: (x.x, x.y))))\n",
    "#     nB = np.array(list(gdB.geometry.apply(lambda x: (x.x, x.y))))\n",
    "#     btree = cKDTree(nB)\n",
    "#     dist, idx = btree.query(nA, k=1)\n",
    "#     gdB_nearest = gdB.iloc[idx].drop(columns=\"geometry\").reset_index(drop=True)\n",
    "#     gdf = pd.concat(\n",
    "#         [gdA.reset_index(drop=True), gdB_nearest, pd.Series(dist, name=\"dist\")],\n",
    "#         axis=1,\n",
    "#     )\n",
    "\n",
    "#     return gdf"
   ]
  },
  {
   "cell_type": "code",
   "execution_count": null,
   "id": "60731c79",
   "metadata": {},
   "outputs": [],
   "source": [
    "# def catcherror(x):\n",
    "#     try:\n",
    "#         return x.x\n",
    "#     except:\n",
    "#         return np.nan"
   ]
  },
  {
   "cell_type": "code",
   "execution_count": null,
   "id": "2a28505c",
   "metadata": {},
   "outputs": [],
   "source": [
    "# df_parking.loc[df_parking.geometry.apply(lambda x: catcherror(x)).isna(),:]"
   ]
  },
  {
   "cell_type": "code",
   "execution_count": null,
   "id": "422e153e",
   "metadata": {},
   "outputs": [],
   "source": [
    "# ckdnearest(df_parking, df_parking_copy)"
   ]
  },
  {
   "cell_type": "code",
   "execution_count": null,
   "id": "af9c1f8e",
   "metadata": {},
   "outputs": [],
   "source": [
    "# from scipy import spatial\n",
    "\n",
    "# # get list of points\n",
    "# points = df_parking['geometry'].apply(\n",
    "#                 lambda g:[g.x,g.y]).tolist()\n",
    "# #spatially organising the points on a tree for quick nearest neighbors calc\n",
    "# kdtree = spatial.KDTree(points)\n",
    "\n",
    "# #calculates the nearest neighbors of each point\n",
    "# _ , neighs = kdtree.query(points, k=2)\n",
    "\n",
    "# # remove itself as neighbor\n",
    "# neighs = neighs[:,1]\n",
    "\n",
    "\n",
    "# # add column to df\n",
    "# df_parking['nearest_points'] = df_parking.iloc[neighs, 3].tolist()"
   ]
  }
 ],
 "metadata": {
  "kernelspec": {
   "display_name": "Python 3 (ipykernel)",
   "language": "python",
   "name": "python3"
  },
  "language_info": {
   "codemirror_mode": {
    "name": "ipython",
    "version": 3
   },
   "file_extension": ".py",
   "mimetype": "text/x-python",
   "name": "python",
   "nbconvert_exporter": "python",
   "pygments_lexer": "ipython3",
   "version": "3.8.5"
  }
 },
 "nbformat": 4,
 "nbformat_minor": 5
}
