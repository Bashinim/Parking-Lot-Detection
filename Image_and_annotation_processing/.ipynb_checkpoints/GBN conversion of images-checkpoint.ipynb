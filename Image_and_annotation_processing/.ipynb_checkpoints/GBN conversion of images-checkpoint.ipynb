{
 "cells": [
  {
   "cell_type": "code",
   "execution_count": null,
   "id": "41036400",
   "metadata": {},
   "outputs": [],
   "source": [
    "# import the necessary packages\n",
    "import numpy as np\n",
    "import pandas as pd\n",
    "import cv2\n",
    "import glob\n",
    "import csv\n",
    "import itertools\n",
    "import os"
   ]
  },
  {
   "cell_type": "code",
   "execution_count": null,
   "id": "31dfd247",
   "metadata": {},
   "outputs": [],
   "source": [
    "root= \"F:/Berlin-DOP_2020/Processed images_GBN\"  #ground truth dataset with tiles of res 10000*10000\n",
    "images_out= \"F:/Berlin-DOP_2020/Processed images_GBN/\" #output location for splitted images"
   ]
  },
  {
   "cell_type": "code",
   "execution_count": null,
   "id": "4d726802",
   "metadata": {},
   "outputs": [],
   "source": [
    "def GBN_convert(image_dir, out_dir, search=\".tif\",overlap=0.0):\n",
    "    \n",
    "    if not os.path.exists(out_dir):\n",
    "        os.makedirs(out_dir)\n",
    "    \n",
    "    os.chdir(image_dir)\n",
    "    search2 = \"*\" + search\n",
    "    images = glob.glob(search2)\n",
    "    \n",
    "    for x in images:\n",
    "        \n",
    "        image = cv2.imread(x, cv2.IMREAD_UNCHANGED)\n",
    "        (R, G, B, N) = cv2.split(image)\n",
    "        Merged = cv2.merge([G,B,N])\n",
    "        Tileout= out_dir + str(x).replace('.tif','.png')\n",
    "        cv2.imwrite(Tileout, Merged)\n",
    "    print(\"Done\")"
   ]
  },
  {
   "cell_type": "code",
   "execution_count": null,
   "id": "6c142cda",
   "metadata": {},
   "outputs": [],
   "source": [
    "os.chdir(root)\n",
    "dirs=glob.glob(f\"{root}/\")\n",
    "\n",
    "#print(dirs)\n",
    "for directory in dirs:\n",
    "    s = directory.replace('\\\\','/')\n",
    "    GBN_convert(s, images_out, overlap=0.0,search=\"*.tif\") #No overlap for testing."
   ]
  },
  {
   "cell_type": "code",
   "execution_count": null,
   "id": "0c39c236",
   "metadata": {},
   "outputs": [],
   "source": [
    "# Reading the image file and saving the colour bands in to 4 seperate bands\n",
    "# image = cv2.imread(\"F:/Berlin-DOP_2020/test/dop10rgbi_391_5824_1_be_2020.tif\", cv2.IMREAD_UNCHANGED)\n"
   ]
  },
  {
   "cell_type": "code",
   "execution_count": null,
   "id": "33776dab",
   "metadata": {},
   "outputs": [],
   "source": []
  },
  {
   "cell_type": "code",
   "execution_count": null,
   "id": "d2c2bb0c",
   "metadata": {},
   "outputs": [],
   "source": [
    "# cv2.imwrite('F:/Berlin-DOP_2020/test/dop10rgbi_391_5824_1_be_2020_GBNP.png', Merged)"
   ]
  }
 ],
 "metadata": {
  "kernelspec": {
   "display_name": "Python 3 (ipykernel)",
   "language": "python",
   "name": "python3"
  },
  "language_info": {
   "codemirror_mode": {
    "name": "ipython",
    "version": 3
   },
   "file_extension": ".py",
   "mimetype": "text/x-python",
   "name": "python",
   "nbconvert_exporter": "python",
   "pygments_lexer": "ipython3",
   "version": "3.8.11"
  }
 },
 "nbformat": 4,
 "nbformat_minor": 5
}
