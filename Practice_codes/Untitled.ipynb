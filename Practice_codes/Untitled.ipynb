{
 "cells": [
  {
   "cell_type": "code",
   "execution_count": 3,
   "id": "31a0650a",
   "metadata": {},
   "outputs": [],
   "source": [
    "import gdal"
   ]
  },
  {
   "cell_type": "code",
   "execution_count": 4,
   "id": "74a00111",
   "metadata": {},
   "outputs": [],
   "source": [
    "ds = gdal.Open('F:/tif_rgb/dop20rgb_368_5808_2_be_2021.tif')"
   ]
  },
  {
   "cell_type": "code",
   "execution_count": 6,
   "id": "912b6810",
   "metadata": {},
   "outputs": [
    {
     "data": {
      "text/plain": [
       "{'AREA_OR_POINT': 'Area',\n",
       " 'TIFFTAG_RESOLUTIONUNIT': '2 (pixels/inch)',\n",
       " 'TIFFTAG_XRESOLUTION': '72',\n",
       " 'TIFFTAG_YRESOLUTION': '72'}"
      ]
     },
     "execution_count": 6,
     "metadata": {},
     "output_type": "execute_result"
    }
   ],
   "source": [
    "ds.GetMetadata()"
   ]
  },
  {
   "cell_type": "code",
   "execution_count": 33,
   "id": "c1dfebd5",
   "metadata": {},
   "outputs": [
    {
     "data": {
      "text/plain": [
       "['AREA_OR_POINT=Area',\n",
       " 'TIFFTAG_RESOLUTIONUNIT=2 (pixels/inch)',\n",
       " 'TIFFTAG_XRESOLUTION=72',\n",
       " 'TIFFTAG_YRESOLUTION=72']"
      ]
     },
     "execution_count": 33,
     "metadata": {},
     "output_type": "execute_result"
    }
   ],
   "source": [
    "proj"
   ]
  },
  {
   "cell_type": "code",
   "execution_count": null,
   "id": "98669848",
   "metadata": {},
   "outputs": [],
   "source": []
  }
 ],
 "metadata": {
  "kernelspec": {
   "display_name": "Python 3",
   "language": "python",
   "name": "python3"
  },
  "language_info": {
   "codemirror_mode": {
    "name": "ipython",
    "version": 3
   },
   "file_extension": ".py",
   "mimetype": "text/x-python",
   "name": "python",
   "nbconvert_exporter": "python",
   "pygments_lexer": "ipython3",
   "version": "3.7.10"
  }
 },
 "nbformat": 4,
 "nbformat_minor": 5
}
