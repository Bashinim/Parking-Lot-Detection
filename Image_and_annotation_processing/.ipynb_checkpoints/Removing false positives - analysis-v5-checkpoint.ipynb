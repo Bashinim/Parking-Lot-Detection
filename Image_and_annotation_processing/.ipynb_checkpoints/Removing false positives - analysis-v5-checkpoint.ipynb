{
 "cells": [
  {
   "cell_type": "code",
   "execution_count": 2,
   "id": "879cc4a3",
   "metadata": {},
   "outputs": [],
   "source": [
    "import numpy as np\n",
    "import matplotlib.pyplot as plt\n",
    "import geopandas as gpd\n",
    "import pandas as pd\n",
    "from sklearn.cluster import KMeans\n",
    "# import cartopy.crs as ccrs\n",
    "import matplotlib.patches as mpatches\n",
    "#import hdbscan\n",
    "# import seaborn as sns\n",
    "from sklearn.preprocessing import LabelEncoder\n",
    "from sklearn import metrics\n",
    "from sklearn.metrics import classification_report\n",
    "from sklearn.linear_model import LogisticRegression\n",
    "from sklearn.model_selection import train_test_split\n",
    "import geojson\n",
    "import json"
   ]
  },
  {
   "cell_type": "code",
   "execution_count": null,
   "id": "14b7f90c",
   "metadata": {},
   "outputs": [],
   "source": [
    "# Reading the file with metrices\n",
    "df_parking = gpd.read_file(\"F:/Berlin-DOP_2020/Road_side/Predictions_true_false.geojson\")"
   ]
  },
  {
   "cell_type": "code",
   "execution_count": null,
   "id": "ab30392e",
   "metadata": {},
   "outputs": [
    {
     "ename": "Error",
     "evalue": "Session cannot generate requests",
     "output_type": "error",
     "traceback": [
      "Error: Session cannot generate requests",
      "at w.executeCodeCell (c:\\Users\\Bashi\\.vscode\\extensions\\ms-toolsai.jupyter-2021.9.1101343141\\out\\client\\extension.js:52:301180)",
      "at w.execute (c:\\Users\\Bashi\\.vscode\\extensions\\ms-toolsai.jupyter-2021.9.1101343141\\out\\client\\extension.js:52:300551)",
      "at w.start (c:\\Users\\Bashi\\.vscode\\extensions\\ms-toolsai.jupyter-2021.9.1101343141\\out\\client\\extension.js:52:296215)",
      "at runMicrotasks (<anonymous>)",
      "at processTicksAndRejections (internal/process/task_queues.js:93:5)",
      "at t.CellExecutionQueue.executeQueuedCells (c:\\Users\\Bashi\\.vscode\\extensions\\ms-toolsai.jupyter-2021.9.1101343141\\out\\client\\extension.js:52:310950)",
      "at t.CellExecutionQueue.start (c:\\Users\\Bashi\\.vscode\\extensions\\ms-toolsai.jupyter-2021.9.1101343141\\out\\client\\extension.js:52:310490)"
     ]
    }
   ],
   "source": [
    "# Renaming the column heading\n",
    "df_parking = df_parking.rename(columns={'True or False': 'True_or_False'})\n",
    "df_parking.loc[df_parking.True_or_False == \"true\", 'True_or_False'] = 1\n",
    "df_parking.loc[df_parking.True_or_False == \"false\", 'True_or_False'] = 0\n",
    "df_parking = pd.DataFrame(df_parking[['parking_area_m2', 'nearest_geometry_dis', 'True_or_False']])"
   ]
  },
  {
   "cell_type": "code",
   "execution_count": null,
   "id": "4324ac67",
   "metadata": {},
   "outputs": [
    {
     "ename": "Error",
     "evalue": "Session cannot generate requests",
     "output_type": "error",
     "traceback": [
      "Error: Session cannot generate requests",
      "at w.executeCodeCell (c:\\Users\\Bashi\\.vscode\\extensions\\ms-toolsai.jupyter-2021.9.1101343141\\out\\client\\extension.js:52:301180)",
      "at w.execute (c:\\Users\\Bashi\\.vscode\\extensions\\ms-toolsai.jupyter-2021.9.1101343141\\out\\client\\extension.js:52:300551)",
      "at w.start (c:\\Users\\Bashi\\.vscode\\extensions\\ms-toolsai.jupyter-2021.9.1101343141\\out\\client\\extension.js:52:296215)",
      "at runMicrotasks (<anonymous>)",
      "at processTicksAndRejections (internal/process/task_queues.js:93:5)",
      "at t.CellExecutionQueue.executeQueuedCells (c:\\Users\\Bashi\\.vscode\\extensions\\ms-toolsai.jupyter-2021.9.1101343141\\out\\client\\extension.js:52:310950)",
      "at t.CellExecutionQueue.start (c:\\Users\\Bashi\\.vscode\\extensions\\ms-toolsai.jupyter-2021.9.1101343141\\out\\client\\extension.js:52:310490)"
     ]
    }
   ],
   "source": [
    "df_parking['True_or_False'] = df_parking['True_or_False'].astype(str)"
   ]
  },
  {
   "cell_type": "code",
   "execution_count": 5,
   "id": "5a3cdde8",
   "metadata": {},
   "outputs": [],
   "source": [
    "X = df_parking.iloc[:,:-1]"
   ]
  },
  {
   "cell_type": "code",
   "execution_count": 6,
   "id": "56b37cda",
   "metadata": {},
   "outputs": [],
   "source": [
    "y = df_parking[\"True_or_False\"]"
   ]
  },
  {
   "cell_type": "code",
   "execution_count": 7,
   "id": "426c3e9f",
   "metadata": {},
   "outputs": [],
   "source": [
    "X_train, X_test, y_train, y_test = train_test_split(X,y, test_size = 0.33, random_state = 0)"
   ]
  },
  {
   "cell_type": "code",
   "execution_count": 8,
   "id": "0450a65a",
   "metadata": {},
   "outputs": [
    {
     "data": {
      "text/plain": [
       "LogisticRegression(max_iter=300)"
      ]
     },
     "execution_count": 8,
     "metadata": {},
     "output_type": "execute_result"
    }
   ],
   "source": [
    "reg = LogisticRegression(max_iter= 300)\n",
    "reg.fit(X_train, y_train)"
   ]
  },
  {
   "cell_type": "code",
   "execution_count": 9,
   "id": "9a0eafe6",
   "metadata": {},
   "outputs": [],
   "source": [
    "y_pred = reg.predict(X_test)"
   ]
  },
  {
   "cell_type": "code",
   "execution_count": 11,
   "id": "d01e049c",
   "metadata": {
    "scrolled": false
   },
   "outputs": [
    {
     "data": {
      "text/plain": [
       "<Figure size 720x360 with 0 Axes>"
      ]
     },
     "execution_count": 11,
     "metadata": {},
     "output_type": "execute_result"
    },
    {
     "data": {
      "image/png": "[encoded data removed]",
      "text/plain": [
       "<Figure size 432x288 with 2 Axes>"
      ]
     },
     "metadata": {
      "needs_background": "light"
     },
     "output_type": "display_data"
    },
    {
     "data": {
      "text/plain": [
       "<Figure size 720x360 with 0 Axes>"
      ]
     },
     "metadata": {},
     "output_type": "display_data"
    }
   ],
   "source": [
    "confusion_matrix = metrics.plot_confusion_matrix(reg, X_test, y_test, cmap = \"GnBu\")\n",
    "plt.rcParams.update({'font.size': 15})\n",
    "plt.figure(figsize = (10,5))"
   ]
  },
  {
   "cell_type": "code",
   "execution_count": 11,
   "id": "db3f7c37",
   "metadata": {},
   "outputs": [
    {
     "name": "stdout",
     "output_type": "stream",
     "text": [
      "Accuracy 0.840625\n"
     ]
    }
   ],
   "source": [
    "print(\"Accuracy\", metrics.accuracy_score(y_test, y_pred))"
   ]
  },
  {
   "cell_type": "code",
   "execution_count": 12,
   "id": "99c6cd4c",
   "metadata": {
    "scrolled": true
   },
   "outputs": [
    {
     "name": "stdout",
     "output_type": "stream",
     "text": [
      "              precision    recall  f1-score   support\n",
      "\n",
      "           0       0.72      0.56      0.63        77\n",
      "           1       0.87      0.93      0.90       243\n",
      "\n",
      "    accuracy                           0.84       320\n",
      "   macro avg       0.79      0.74      0.76       320\n",
      "weighted avg       0.83      0.84      0.83       320\n",
      "\n"
     ]
    }
   ],
   "source": [
    "print(classification_report(y_test,y_pred))"
   ]
  },
  {
   "cell_type": "code",
   "execution_count": 13,
   "id": "d74825ae",
   "metadata": {},
   "outputs": [],
   "source": [
    "y_pred = [int(y_pred) for y_pred in y_pred]\n",
    "y_test =y_test.astype(int).array"
   ]
  },
  {
   "cell_type": "code",
   "execution_count": 14,
   "id": "4e80d681",
   "metadata": {},
   "outputs": [
    {
     "name": "stdout",
     "output_type": "stream",
     "text": [
      "AUC: 0.81\n"
     ]
    },
    {
     "data": {
      "image/png": "[encoded data removed]",
      "text/plain": [
       "<Figure size 432x288 with 1 Axes>"
      ]
     },
     "metadata": {
      "needs_background": "light"
     },
     "output_type": "display_data"
    }
   ],
   "source": [
    "# ROC curve and AUC\n",
    "y_pred_prob = reg.predict_proba(X_test)[:,1]\n",
    "fpr, tpr, threshold = metrics.roc_curve (y_test, y_pred_prob)\n",
    "plt.plot(fpr, tpr)\n",
    "auc = metrics.roc_auc_score(y_test, y_pred_prob)\n",
    "print(\"AUC:\", round(auc,2))"
   ]
  },
  {
   "cell_type": "code",
   "execution_count": 15,
   "id": "f41e8069",
   "metadata": {},
   "outputs": [],
   "source": [
    "# Reading the file with predictions\n",
    "df_pred_new = gpd.read_file(\"F:/Berlin-DOP_2020/Processed images_new/Final/Predic_dissolved.geojson\",crs='EPSG:25833')"
   ]
  },
  {
   "cell_type": "code",
   "execution_count": 16,
   "id": "e2b81fd6",
   "metadata": {},
   "outputs": [],
   "source": [
    "# Renaming the column heading\n",
    "df_pred = pd.DataFrame(df_pred_new[['parking_area_m2', 'nearest_geometry_dis']])"
   ]
  },
  {
   "cell_type": "code",
   "execution_count": 17,
   "id": "1e5ae794",
   "metadata": {},
   "outputs": [
    {
     "data": {
      "text/html": [
       "<div>\n",
       "<style scoped>\n",
       "    .dataframe tbody tr th:only-of-type {\n",
       "        vertical-align: middle;\n",
       "    }\n",
       "\n",
       "    .dataframe tbody tr th {\n",
       "        vertical-align: top;\n",
       "    }\n",
       "\n",
       "    .dataframe thead th {\n",
       "        text-align: right;\n",
       "    }\n",
       "</style>\n",
       "<table border=\"1\" class=\"dataframe\">\n",
       "  <thead>\n",
       "    <tr style=\"text-align: right;\">\n",
       "      <th></th>\n",
       "      <th>parking_area_m2</th>\n",
       "      <th>nearest_geometry_dis</th>\n",
       "    </tr>\n",
       "  </thead>\n",
       "  <tbody>\n",
       "    <tr>\n",
       "      <th>0</th>\n",
       "      <td>48.033860</td>\n",
       "      <td>2.954590</td>\n",
       "    </tr>\n",
       "    <tr>\n",
       "      <th>1</th>\n",
       "      <td>48.033860</td>\n",
       "      <td>2.839877</td>\n",
       "    </tr>\n",
       "    <tr>\n",
       "      <th>2</th>\n",
       "      <td>48.033860</td>\n",
       "      <td>0.258309</td>\n",
       "    </tr>\n",
       "    <tr>\n",
       "      <th>3</th>\n",
       "      <td>48.033860</td>\n",
       "      <td>0.258309</td>\n",
       "    </tr>\n",
       "    <tr>\n",
       "      <th>4</th>\n",
       "      <td>14.047920</td>\n",
       "      <td>23.613326</td>\n",
       "    </tr>\n",
       "    <tr>\n",
       "      <th>...</th>\n",
       "      <td>...</td>\n",
       "      <td>...</td>\n",
       "    </tr>\n",
       "    <tr>\n",
       "      <th>8971</th>\n",
       "      <td>10.368876</td>\n",
       "      <td>34.054367</td>\n",
       "    </tr>\n",
       "    <tr>\n",
       "      <th>8972</th>\n",
       "      <td>34.782663</td>\n",
       "      <td>14.815357</td>\n",
       "    </tr>\n",
       "    <tr>\n",
       "      <th>8973</th>\n",
       "      <td>33.143099</td>\n",
       "      <td>10.094998</td>\n",
       "    </tr>\n",
       "    <tr>\n",
       "      <th>8974</th>\n",
       "      <td>23.646757</td>\n",
       "      <td>24.441951</td>\n",
       "    </tr>\n",
       "    <tr>\n",
       "      <th>8975</th>\n",
       "      <td>21.709780</td>\n",
       "      <td>15.036314</td>\n",
       "    </tr>\n",
       "  </tbody>\n",
       "</table>\n",
       "<p>8976 rows × 2 columns</p>\n",
       "</div>"
      ],
      "text/plain": [
       "      parking_area_m2  nearest_geometry_dis\n",
       "0           48.033860              2.954590\n",
       "1           48.033860              2.839877\n",
       "2           48.033860              0.258309\n",
       "3           48.033860              0.258309\n",
       "4           14.047920             23.613326\n",
       "...               ...                   ...\n",
       "8971        10.368876             34.054367\n",
       "8972        34.782663             14.815357\n",
       "8973        33.143099             10.094998\n",
       "8974        23.646757             24.441951\n",
       "8975        21.709780             15.036314\n",
       "\n",
       "[8976 rows x 2 columns]"
      ]
     },
     "execution_count": 17,
     "metadata": {},
     "output_type": "execute_result"
    }
   ],
   "source": [
    "df_pred"
   ]
  },
  {
   "cell_type": "code",
   "execution_count": 18,
   "id": "c69da4c1",
   "metadata": {},
   "outputs": [],
   "source": [
    "y_pred_pred = reg.predict(df_pred)"
   ]
  },
  {
   "cell_type": "code",
   "execution_count": 19,
   "id": "a7f66cc2",
   "metadata": {},
   "outputs": [],
   "source": [
    "#df_pred_new.to_file(\"F:/Berlin-DOP_2020/Processed images_new/Final/Processed_dissolved.geojson\", crs='EPSG:25833')"
   ]
  },
  {
   "cell_type": "code",
   "execution_count": 20,
   "id": "4e5f0bed",
   "metadata": {},
   "outputs": [],
   "source": [
    "with open(\"F:/Berlin-DOP_2020/Processed images_new/Final/Processed_dissolved_1.geojson\", 'a') as f:\n",
    "    geojson.dump(df_pred_new, f)"
   ]
  },
  {
   "cell_type": "code",
   "execution_count": 21,
   "id": "2dd73fd8",
   "metadata": {},
   "outputs": [],
   "source": [
    "df_pred_new['True_or_False']= y_pred_pred\n",
    "df_pred_new.loc[df_pred_new.True_or_False == \"1\", 'True_or_False'] = \"true\"\n",
    "df_pred_new.loc[df_pred_new.True_or_False == \"0\", 'True_or_False'] = \"false\""
   ]
  },
  {
   "cell_type": "code",
   "execution_count": 22,
   "id": "db7974d0",
   "metadata": {},
   "outputs": [],
   "source": [
    "# Merging with original dataframe\n",
    "df_original = gpd.read_file(\"F:/Berlin-DOP_2020/Processed images_new/Predictions.geojson\", crs='EPSG:25833')"
   ]
  },
  {
   "cell_type": "code",
   "execution_count": 23,
   "id": "bcdecf04",
   "metadata": {},
   "outputs": [
    {
     "data": {
      "text/html": [
       "<div>\n",
       "<style scoped>\n",
       "    .dataframe tbody tr th:only-of-type {\n",
       "        vertical-align: middle;\n",
       "    }\n",
       "\n",
       "    .dataframe tbody tr th {\n",
       "        vertical-align: top;\n",
       "    }\n",
       "\n",
       "    .dataframe thead th {\n",
       "        text-align: right;\n",
       "    }\n",
       "</style>\n",
       "<table border=\"1\" class=\"dataframe\">\n",
       "  <thead>\n",
       "    <tr style=\"text-align: right;\">\n",
       "      <th></th>\n",
       "      <th>id</th>\n",
       "      <th>label</th>\n",
       "      <th>geometry</th>\n",
       "    </tr>\n",
       "  </thead>\n",
       "  <tbody>\n",
       "    <tr>\n",
       "      <th>0</th>\n",
       "      <td>1</td>\n",
       "      <td>PK-space-occupied</td>\n",
       "      <td>MULTIPOLYGON (((391033.600 5824044.550, 391034...</td>\n",
       "    </tr>\n",
       "    <tr>\n",
       "      <th>1</th>\n",
       "      <td>2</td>\n",
       "      <td>PK-space-occupied</td>\n",
       "      <td>MULTIPOLYGON (((391038.600 5824010.850, 391039...</td>\n",
       "    </tr>\n",
       "    <tr>\n",
       "      <th>2</th>\n",
       "      <td>3</td>\n",
       "      <td>PK-space-occupied</td>\n",
       "      <td>MULTIPOLYGON (((391018.550 5824050.000, 391018...</td>\n",
       "    </tr>\n",
       "    <tr>\n",
       "      <th>3</th>\n",
       "      <td>4</td>\n",
       "      <td>PK-space-occupied</td>\n",
       "      <td>MULTIPOLYGON (((391032.100 5824035.850, 391032...</td>\n",
       "    </tr>\n",
       "    <tr>\n",
       "      <th>4</th>\n",
       "      <td>5</td>\n",
       "      <td>PK-space-occupied</td>\n",
       "      <td>MULTIPOLYGON (((391031.700 5824035.850, 391031...</td>\n",
       "    </tr>\n",
       "    <tr>\n",
       "      <th>...</th>\n",
       "      <td>...</td>\n",
       "      <td>...</td>\n",
       "      <td>...</td>\n",
       "    </tr>\n",
       "    <tr>\n",
       "      <th>8974</th>\n",
       "      <td>8980</td>\n",
       "      <td>PK-space-occupied</td>\n",
       "      <td>MULTIPOLYGON (((392978.800 5824894.250, 392979...</td>\n",
       "    </tr>\n",
       "    <tr>\n",
       "      <th>8975</th>\n",
       "      <td>8981</td>\n",
       "      <td>PK-space-occupied</td>\n",
       "      <td>MULTIPOLYGON (((392994.200 5824927.750, 392994...</td>\n",
       "    </tr>\n",
       "    <tr>\n",
       "      <th>8976</th>\n",
       "      <td>8982</td>\n",
       "      <td>PK-space-occupied</td>\n",
       "      <td>MULTIPOLYGON (((392993.700 5824932.450, 392994...</td>\n",
       "    </tr>\n",
       "    <tr>\n",
       "      <th>8977</th>\n",
       "      <td>8983</td>\n",
       "      <td>PK-space-occupied</td>\n",
       "      <td>MULTIPOLYGON (((392958.900 5824907.950, 392959...</td>\n",
       "    </tr>\n",
       "    <tr>\n",
       "      <th>8978</th>\n",
       "      <td>8984</td>\n",
       "      <td>PK-space-empty</td>\n",
       "      <td>MULTIPOLYGON (((392992.300 5824930.050, 392992...</td>\n",
       "    </tr>\n",
       "  </tbody>\n",
       "</table>\n",
       "<p>8979 rows × 3 columns</p>\n",
       "</div>"
      ],
      "text/plain": [
       "        id              label  \\\n",
       "0        1  PK-space-occupied   \n",
       "1        2  PK-space-occupied   \n",
       "2        3  PK-space-occupied   \n",
       "3        4  PK-space-occupied   \n",
       "4        5  PK-space-occupied   \n",
       "...    ...                ...   \n",
       "8974  8980  PK-space-occupied   \n",
       "8975  8981  PK-space-occupied   \n",
       "8976  8982  PK-space-occupied   \n",
       "8977  8983  PK-space-occupied   \n",
       "8978  8984     PK-space-empty   \n",
       "\n",
       "                                               geometry  \n",
       "0     MULTIPOLYGON (((391033.600 5824044.550, 391034...  \n",
       "1     MULTIPOLYGON (((391038.600 5824010.850, 391039...  \n",
       "2     MULTIPOLYGON (((391018.550 5824050.000, 391018...  \n",
       "3     MULTIPOLYGON (((391032.100 5824035.850, 391032...  \n",
       "4     MULTIPOLYGON (((391031.700 5824035.850, 391031...  \n",
       "...                                                 ...  \n",
       "8974  MULTIPOLYGON (((392978.800 5824894.250, 392979...  \n",
       "8975  MULTIPOLYGON (((392994.200 5824927.750, 392994...  \n",
       "8976  MULTIPOLYGON (((392993.700 5824932.450, 392994...  \n",
       "8977  MULTIPOLYGON (((392958.900 5824907.950, 392959...  \n",
       "8978  MULTIPOLYGON (((392992.300 5824930.050, 392992...  \n",
       "\n",
       "[8979 rows x 3 columns]"
      ]
     },
     "execution_count": 23,
     "metadata": {},
     "output_type": "execute_result"
    }
   ],
   "source": [
    "df_original"
   ]
  },
  {
   "cell_type": "code",
   "execution_count": 24,
   "id": "9ba03d78",
   "metadata": {},
   "outputs": [
    {
     "data": {
      "text/html": [
       "<div>\n",
       "<style scoped>\n",
       "    .dataframe tbody tr th:only-of-type {\n",
       "        vertical-align: middle;\n",
       "    }\n",
       "\n",
       "    .dataframe tbody tr th {\n",
       "        vertical-align: top;\n",
       "    }\n",
       "\n",
       "    .dataframe thead th {\n",
       "        text-align: right;\n",
       "    }\n",
       "</style>\n",
       "<table border=\"1\" class=\"dataframe\">\n",
       "  <thead>\n",
       "    <tr style=\"text-align: right;\">\n",
       "      <th></th>\n",
       "      <th>id</th>\n",
       "      <th>label</th>\n",
       "      <th>parking_area_m2</th>\n",
       "      <th>nearest_geometry_dis</th>\n",
       "      <th>geometry</th>\n",
       "      <th>True_or_False</th>\n",
       "    </tr>\n",
       "  </thead>\n",
       "  <tbody>\n",
       "    <tr>\n",
       "      <th>0</th>\n",
       "      <td>8608</td>\n",
       "      <td>PK-space-occupied</td>\n",
       "      <td>48.033860</td>\n",
       "      <td>2.954590</td>\n",
       "      <td>POLYGON ((392980.300 5820999.150, 392976.000 5...</td>\n",
       "      <td>true</td>\n",
       "    </tr>\n",
       "    <tr>\n",
       "      <th>1</th>\n",
       "      <td>8606</td>\n",
       "      <td>PK-space-empty</td>\n",
       "      <td>48.033860</td>\n",
       "      <td>2.839877</td>\n",
       "      <td>POLYGON ((392980.300 5820999.150, 392976.000 5...</td>\n",
       "      <td>true</td>\n",
       "    </tr>\n",
       "    <tr>\n",
       "      <th>2</th>\n",
       "      <td>8607</td>\n",
       "      <td>PK-space-occupied</td>\n",
       "      <td>48.033860</td>\n",
       "      <td>0.258309</td>\n",
       "      <td>POLYGON ((392980.300 5820999.150, 392976.000 5...</td>\n",
       "      <td>true</td>\n",
       "    </tr>\n",
       "    <tr>\n",
       "      <th>3</th>\n",
       "      <td>8603</td>\n",
       "      <td>PK-space-occupied</td>\n",
       "      <td>48.033860</td>\n",
       "      <td>0.258309</td>\n",
       "      <td>POLYGON ((392980.300 5820999.150, 392976.000 5...</td>\n",
       "      <td>true</td>\n",
       "    </tr>\n",
       "    <tr>\n",
       "      <th>4</th>\n",
       "      <td>1968</td>\n",
       "      <td>PK-space-occupied</td>\n",
       "      <td>14.047920</td>\n",
       "      <td>23.613326</td>\n",
       "      <td>POLYGON ((392135.900 5820999.150, 392134.800 5...</td>\n",
       "      <td>false</td>\n",
       "    </tr>\n",
       "    <tr>\n",
       "      <th>...</th>\n",
       "      <td>...</td>\n",
       "      <td>...</td>\n",
       "      <td>...</td>\n",
       "      <td>...</td>\n",
       "      <td>...</td>\n",
       "      <td>...</td>\n",
       "    </tr>\n",
       "    <tr>\n",
       "      <th>8971</th>\n",
       "      <td>6032</td>\n",
       "      <td>PK-space-occupied</td>\n",
       "      <td>10.368876</td>\n",
       "      <td>34.054367</td>\n",
       "      <td>POLYGON ((392624.236 5824997.164, 392623.636 5...</td>\n",
       "      <td>false</td>\n",
       "    </tr>\n",
       "    <tr>\n",
       "      <th>8972</th>\n",
       "      <td>5135</td>\n",
       "      <td>PK-space-occupied</td>\n",
       "      <td>34.782663</td>\n",
       "      <td>14.815357</td>\n",
       "      <td>POLYGON ((392538.400 5824994.450, 392537.600 5...</td>\n",
       "      <td>true</td>\n",
       "    </tr>\n",
       "    <tr>\n",
       "      <th>8973</th>\n",
       "      <td>3075</td>\n",
       "      <td>PK-space-occupied</td>\n",
       "      <td>33.143099</td>\n",
       "      <td>10.094998</td>\n",
       "      <td>POLYGON ((392243.850 5824997.258, 392243.831 5...</td>\n",
       "      <td>true</td>\n",
       "    </tr>\n",
       "    <tr>\n",
       "      <th>8974</th>\n",
       "      <td>521</td>\n",
       "      <td>PK-space-occupied</td>\n",
       "      <td>23.646757</td>\n",
       "      <td>24.441951</td>\n",
       "      <td>POLYGON ((391527.161 5825000.737, 391529.438 5...</td>\n",
       "      <td>false</td>\n",
       "    </tr>\n",
       "    <tr>\n",
       "      <th>8975</th>\n",
       "      <td>2276</td>\n",
       "      <td>PK-space-occupied</td>\n",
       "      <td>21.709780</td>\n",
       "      <td>15.036314</td>\n",
       "      <td>POLYGON ((392116.850 5825001.000, 392119.050 5...</td>\n",
       "      <td>true</td>\n",
       "    </tr>\n",
       "  </tbody>\n",
       "</table>\n",
       "<p>8976 rows × 6 columns</p>\n",
       "</div>"
      ],
      "text/plain": [
       "        id              label  parking_area_m2  nearest_geometry_dis  \\\n",
       "0     8608  PK-space-occupied        48.033860              2.954590   \n",
       "1     8606     PK-space-empty        48.033860              2.839877   \n",
       "2     8607  PK-space-occupied        48.033860              0.258309   \n",
       "3     8603  PK-space-occupied        48.033860              0.258309   \n",
       "4     1968  PK-space-occupied        14.047920             23.613326   \n",
       "...    ...                ...              ...                   ...   \n",
       "8971  6032  PK-space-occupied        10.368876             34.054367   \n",
       "8972  5135  PK-space-occupied        34.782663             14.815357   \n",
       "8973  3075  PK-space-occupied        33.143099             10.094998   \n",
       "8974   521  PK-space-occupied        23.646757             24.441951   \n",
       "8975  2276  PK-space-occupied        21.709780             15.036314   \n",
       "\n",
       "                                               geometry True_or_False  \n",
       "0     POLYGON ((392980.300 5820999.150, 392976.000 5...          true  \n",
       "1     POLYGON ((392980.300 5820999.150, 392976.000 5...          true  \n",
       "2     POLYGON ((392980.300 5820999.150, 392976.000 5...          true  \n",
       "3     POLYGON ((392980.300 5820999.150, 392976.000 5...          true  \n",
       "4     POLYGON ((392135.900 5820999.150, 392134.800 5...         false  \n",
       "...                                                 ...           ...  \n",
       "8971  POLYGON ((392624.236 5824997.164, 392623.636 5...         false  \n",
       "8972  POLYGON ((392538.400 5824994.450, 392537.600 5...          true  \n",
       "8973  POLYGON ((392243.850 5824997.258, 392243.831 5...          true  \n",
       "8974  POLYGON ((391527.161 5825000.737, 391529.438 5...         false  \n",
       "8975  POLYGON ((392116.850 5825001.000, 392119.050 5...          true  \n",
       "\n",
       "[8976 rows x 6 columns]"
      ]
     },
     "execution_count": 24,
     "metadata": {},
     "output_type": "execute_result"
    }
   ],
   "source": [
    "df_pred_new"
   ]
  },
  {
   "cell_type": "code",
   "execution_count": 25,
   "id": "d74bd4ea",
   "metadata": {},
   "outputs": [],
   "source": [
    "Merged_df = df_original.merge(df_pred_new, on='id', how='inner')"
   ]
  },
  {
   "cell_type": "code",
   "execution_count": 26,
   "id": "9b84c0f8",
   "metadata": {},
   "outputs": [],
   "source": [
    "Merged_df = Merged_df.drop(['geometry_y'], axis = 1)"
   ]
  },
  {
   "cell_type": "code",
   "execution_count": 27,
   "id": "c40728c0",
   "metadata": {},
   "outputs": [],
   "source": [
    "Merged_gdf = gpd.GeoDataFrame(Merged_df, geometry=\"geometry_x\", crs='EPSG:25833')"
   ]
  },
  {
   "cell_type": "code",
   "execution_count": 28,
   "id": "d77c6534",
   "metadata": {},
   "outputs": [
    {
     "data": {
      "text/html": [
       "<div>\n",
       "<style scoped>\n",
       "    .dataframe tbody tr th:only-of-type {\n",
       "        vertical-align: middle;\n",
       "    }\n",
       "\n",
       "    .dataframe tbody tr th {\n",
       "        vertical-align: top;\n",
       "    }\n",
       "\n",
       "    .dataframe thead th {\n",
       "        text-align: right;\n",
       "    }\n",
       "</style>\n",
       "<table border=\"1\" class=\"dataframe\">\n",
       "  <thead>\n",
       "    <tr style=\"text-align: right;\">\n",
       "      <th></th>\n",
       "      <th>id</th>\n",
       "      <th>label_x</th>\n",
       "      <th>geometry_x</th>\n",
       "      <th>label_y</th>\n",
       "      <th>parking_area_m2</th>\n",
       "      <th>nearest_geometry_dis</th>\n",
       "      <th>True_or_False</th>\n",
       "    </tr>\n",
       "  </thead>\n",
       "  <tbody>\n",
       "    <tr>\n",
       "      <th>0</th>\n",
       "      <td>1</td>\n",
       "      <td>PK-space-occupied</td>\n",
       "      <td>MULTIPOLYGON (((391033.600 5824044.550, 391034...</td>\n",
       "      <td>PK-space-occupied</td>\n",
       "      <td>27.363242</td>\n",
       "      <td>9.398797</td>\n",
       "      <td>true</td>\n",
       "    </tr>\n",
       "    <tr>\n",
       "      <th>1</th>\n",
       "      <td>2</td>\n",
       "      <td>PK-space-occupied</td>\n",
       "      <td>MULTIPOLYGON (((391038.600 5824010.850, 391039...</td>\n",
       "      <td>PK-space-occupied</td>\n",
       "      <td>30.175678</td>\n",
       "      <td>26.399800</td>\n",
       "      <td>false</td>\n",
       "    </tr>\n",
       "    <tr>\n",
       "      <th>2</th>\n",
       "      <td>3</td>\n",
       "      <td>PK-space-occupied</td>\n",
       "      <td>MULTIPOLYGON (((391018.550 5824050.000, 391018...</td>\n",
       "      <td>PK-space-occupied</td>\n",
       "      <td>91.584665</td>\n",
       "      <td>10.902318</td>\n",
       "      <td>true</td>\n",
       "    </tr>\n",
       "    <tr>\n",
       "      <th>3</th>\n",
       "      <td>4</td>\n",
       "      <td>PK-space-occupied</td>\n",
       "      <td>MULTIPOLYGON (((391032.100 5824035.850, 391032...</td>\n",
       "      <td>PK-space-occupied</td>\n",
       "      <td>41.985958</td>\n",
       "      <td>1.126644</td>\n",
       "      <td>true</td>\n",
       "    </tr>\n",
       "    <tr>\n",
       "      <th>4</th>\n",
       "      <td>5</td>\n",
       "      <td>PK-space-occupied</td>\n",
       "      <td>MULTIPOLYGON (((391031.700 5824035.850, 391031...</td>\n",
       "      <td>PK-space-occupied</td>\n",
       "      <td>41.985958</td>\n",
       "      <td>1.126644</td>\n",
       "      <td>true</td>\n",
       "    </tr>\n",
       "    <tr>\n",
       "      <th>...</th>\n",
       "      <td>...</td>\n",
       "      <td>...</td>\n",
       "      <td>...</td>\n",
       "      <td>...</td>\n",
       "      <td>...</td>\n",
       "      <td>...</td>\n",
       "      <td>...</td>\n",
       "    </tr>\n",
       "    <tr>\n",
       "      <th>8971</th>\n",
       "      <td>8980</td>\n",
       "      <td>PK-space-occupied</td>\n",
       "      <td>MULTIPOLYGON (((392978.800 5824894.250, 392979...</td>\n",
       "      <td>PK-space-occupied</td>\n",
       "      <td>12.731626</td>\n",
       "      <td>21.742114</td>\n",
       "      <td>false</td>\n",
       "    </tr>\n",
       "    <tr>\n",
       "      <th>8972</th>\n",
       "      <td>8981</td>\n",
       "      <td>PK-space-occupied</td>\n",
       "      <td>MULTIPOLYGON (((392994.200 5824927.750, 392994...</td>\n",
       "      <td>PK-space-occupied</td>\n",
       "      <td>66.990136</td>\n",
       "      <td>2.433225</td>\n",
       "      <td>true</td>\n",
       "    </tr>\n",
       "    <tr>\n",
       "      <th>8973</th>\n",
       "      <td>8982</td>\n",
       "      <td>PK-space-occupied</td>\n",
       "      <td>MULTIPOLYGON (((392993.700 5824932.450, 392994...</td>\n",
       "      <td>PK-space-occupied</td>\n",
       "      <td>66.990136</td>\n",
       "      <td>3.853211</td>\n",
       "      <td>true</td>\n",
       "    </tr>\n",
       "    <tr>\n",
       "      <th>8974</th>\n",
       "      <td>8983</td>\n",
       "      <td>PK-space-occupied</td>\n",
       "      <td>MULTIPOLYGON (((392958.900 5824907.950, 392959...</td>\n",
       "      <td>PK-space-occupied</td>\n",
       "      <td>32.571427</td>\n",
       "      <td>21.742114</td>\n",
       "      <td>false</td>\n",
       "    </tr>\n",
       "    <tr>\n",
       "      <th>8975</th>\n",
       "      <td>8984</td>\n",
       "      <td>PK-space-empty</td>\n",
       "      <td>MULTIPOLYGON (((392992.300 5824930.050, 392992...</td>\n",
       "      <td>PK-space-empty</td>\n",
       "      <td>66.990136</td>\n",
       "      <td>2.433225</td>\n",
       "      <td>true</td>\n",
       "    </tr>\n",
       "  </tbody>\n",
       "</table>\n",
       "<p>8976 rows × 7 columns</p>\n",
       "</div>"
      ],
      "text/plain": [
       "        id            label_x  \\\n",
       "0        1  PK-space-occupied   \n",
       "1        2  PK-space-occupied   \n",
       "2        3  PK-space-occupied   \n",
       "3        4  PK-space-occupied   \n",
       "4        5  PK-space-occupied   \n",
       "...    ...                ...   \n",
       "8971  8980  PK-space-occupied   \n",
       "8972  8981  PK-space-occupied   \n",
       "8973  8982  PK-space-occupied   \n",
       "8974  8983  PK-space-occupied   \n",
       "8975  8984     PK-space-empty   \n",
       "\n",
       "                                             geometry_x            label_y  \\\n",
       "0     MULTIPOLYGON (((391033.600 5824044.550, 391034...  PK-space-occupied   \n",
       "1     MULTIPOLYGON (((391038.600 5824010.850, 391039...  PK-space-occupied   \n",
       "2     MULTIPOLYGON (((391018.550 5824050.000, 391018...  PK-space-occupied   \n",
       "3     MULTIPOLYGON (((391032.100 5824035.850, 391032...  PK-space-occupied   \n",
       "4     MULTIPOLYGON (((391031.700 5824035.850, 391031...  PK-space-occupied   \n",
       "...                                                 ...                ...   \n",
       "8971  MULTIPOLYGON (((392978.800 5824894.250, 392979...  PK-space-occupied   \n",
       "8972  MULTIPOLYGON (((392994.200 5824927.750, 392994...  PK-space-occupied   \n",
       "8973  MULTIPOLYGON (((392993.700 5824932.450, 392994...  PK-space-occupied   \n",
       "8974  MULTIPOLYGON (((392958.900 5824907.950, 392959...  PK-space-occupied   \n",
       "8975  MULTIPOLYGON (((392992.300 5824930.050, 392992...     PK-space-empty   \n",
       "\n",
       "      parking_area_m2  nearest_geometry_dis True_or_False  \n",
       "0           27.363242              9.398797          true  \n",
       "1           30.175678             26.399800         false  \n",
       "2           91.584665             10.902318          true  \n",
       "3           41.985958              1.126644          true  \n",
       "4           41.985958              1.126644          true  \n",
       "...               ...                   ...           ...  \n",
       "8971        12.731626             21.742114         false  \n",
       "8972        66.990136              2.433225          true  \n",
       "8973        66.990136              3.853211          true  \n",
       "8974        32.571427             21.742114         false  \n",
       "8975        66.990136              2.433225          true  \n",
       "\n",
       "[8976 rows x 7 columns]"
      ]
     },
     "execution_count": 28,
     "metadata": {},
     "output_type": "execute_result"
    }
   ],
   "source": [
    "Merged_gdf"
   ]
  },
  {
   "cell_type": "code",
   "execution_count": 29,
   "id": "e4a7ae5a",
   "metadata": {},
   "outputs": [],
   "source": [
    "with open(\"F:/Berlin-DOP_2020/Processed images_new/Final/Final_dataframe_1.geojson\", 'a') as f:\n",
    "    geojson.dump(Merged_gdf, f)"
   ]
  },
  {
   "cell_type": "code",
   "execution_count": 30,
   "id": "a763c4ce",
   "metadata": {},
   "outputs": [],
   "source": [
    "#Merged_gdf.to_file(\"F:/Berlin-DOP_2020/Processed images_new/Final/Final_dataframe.geojson\")"
   ]
  },
  {
   "cell_type": "code",
   "execution_count": 31,
   "id": "29f5f722",
   "metadata": {},
   "outputs": [],
   "source": [
    "df_true_only = Merged_gdf.loc[Merged_gdf[\"True_or_False\"] == \"true\"]"
   ]
  },
  {
   "cell_type": "code",
   "execution_count": 32,
   "id": "e92650d5",
   "metadata": {},
   "outputs": [],
   "source": [
    "#df_true_only.to_file(\"F:/Berlin-DOP_2020/Processed images_new/Final/True_Only.geojson\")"
   ]
  },
  {
   "cell_type": "code",
   "execution_count": 33,
   "id": "7671a7aa",
   "metadata": {},
   "outputs": [],
   "source": [
    "with open(\"F:/Berlin-DOP_2020/Processed images_new/Final/True_Only_1.geojson\", 'a') as f:\n",
    "    geojson.dump(df_true_only, f)"
   ]
  }
 ],
 "metadata": {
  "interpreter": {
   "hash": "2f2c861e17d614e8f3e5e7a79e6d85ce334cc1ac401af52fd5588f94f2932fd9"
  },
  "kernelspec": {
   "display_name": "Python 3 (ipykernel)",
   "language": "python",
   "name": "python3"
  },
  "language_info": {
   "codemirror_mode": {
    "name": "ipython",
    "version": 3
   },
   "file_extension": ".py",
   "mimetype": "text/x-python",
   "name": "python",
   "nbconvert_exporter": "python",
   "pygments_lexer": "ipython3",
   "version": "3.8.5"
  }
 },
 "nbformat": 4,
 "nbformat_minor": 5
}
