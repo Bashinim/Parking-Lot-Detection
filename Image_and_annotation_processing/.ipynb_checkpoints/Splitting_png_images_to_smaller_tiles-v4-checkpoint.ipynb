{
 "cells": [
  {
   "cell_type": "code",
   "execution_count": 1,
   "id": "036f9e92",
   "metadata": {},
   "outputs": [],
   "source": [
    "import os\n",
    "import glob\n",
    "import gdal\n",
    "from tqdm import tqdm\n",
    "import cv2\n",
    "import shutil\n",
    "import pandas as pd\n",
    "import numpy as np\n",
    "from skimage.morphology import square, dilation\n",
    "from matplotlib import pyplot as plt\n",
    "import geopandas as gpd\n",
    "from PIL import Image"
   ]
  },
  {
   "cell_type": "code",
   "execution_count": 2,
   "id": "8242669b",
   "metadata": {},
   "outputs": [],
   "source": [
    "root= \"F:/Berlin-DOP_2020/Road_side/New folder\"  #ground truth dataset with tiles of res 10000*10000\n",
    "images_out= \"F:/Berlin-DOP_2020/Road_side/New folder/Split\" #output location for splitted images"
   ]
  },
  {
   "cell_type": "code",
   "execution_count": 3,
   "id": "af5144dc",
   "metadata": {},
   "outputs": [],
   "source": [
    "def geo_tile(untiled_image_dir, tiles_out_dir, tile_size=500,\n",
    "             overlap=0.0, search=\".png\",Output_Channels=[1,2,3]):\n",
    "    \"\"\"Function to tile a set of images into smaller square chunks with embedded georeferencing info\n",
    "    allowing an end user to specify the size of the tile, the overlap of each tile, and when to discard\n",
    "    a tile if it contains blank data.\n",
    "    Arguments\n",
    "    ---------\n",
    "    untiled_image_dir : str\n",
    "        Directory containing full or partial image strips that are untiled.\n",
    "        Imagery must be georeferenced.\n",
    "    tiles_out_dir : str\n",
    "        Output directory for tiled imagery.\n",
    "    tile_size : int\n",
    "        Extent of each tile in both X and Y directions in units of pixels.\n",
    "        Defaults to ``544`` .\n",
    "    overlap : float\n",
    "        The amount of overlap of each tile in float format.  Should range between 0 and <1.\n",
    "        Defaults to ``0.2`` .\n",
    "    search : str\n",
    "        A string with a wildcard to search for files by type\n",
    "        Defaults to \".png\"\n",
    "    Output_Channels : list\n",
    "        A list of the number of channels to output, 1 indexed.\n",
    "        Defaults to ``[1,2,3]`` .\n",
    "    Returns\n",
    "    -------\n",
    "    Tiled imagery directly output to the tiles_out_dir\n",
    "    \"\"\"\n",
    "    if not os.path.exists(tiles_out_dir):\n",
    "        os.makedirs(tiles_out_dir)\n",
    "    \n",
    "    os.chdir(untiled_image_dir)\n",
    "    search2 = \"*\" + search\n",
    "    images = glob.glob(search2)\n",
    "    tile_size = int(tile_size)\n",
    "\n",
    "    for stackclip in images:\n",
    "        print(stackclip)\n",
    "        interp = gdal.Open(os.path.abspath(stackclip))\n",
    "        width = int(interp.RasterXSize)\n",
    "        height = int(interp.RasterYSize)\n",
    "        count = 0\n",
    "        for i in range(0, width, int(tile_size * (1 - overlap))):\n",
    "            for j in range(0, height, int(tile_size * (1 - overlap))):\n",
    "                Chip = [i, j, tile_size, tile_size]\n",
    "                count += 1\n",
    "                # Adding the name according to the longitude and latitude values (EPSG:25833)\n",
    "                name_x = (int(stackclip.split('_')[1])*1000 + (i/1000)*100) \n",
    "                name_y = (int(stackclip.split('_')[2])*100 + ((9000-j)/1000))*100\n",
    "\n",
    "#                 Tileout = tiles_out_dir + \"/\" + \\\n",
    "#                     stackclip.split(search)[0] + \"_tile_\" + str(count) + \".jpeg\"\n",
    "                Tileout = tiles_out_dir + \"/\" + \\\n",
    "                str(stackclip.split('_')[0]) + \"_\" + str(name_x) + \"_\"+ str(name_y) +\"_tile_\" + str(count) + \".jpeg\"\n",
    "                output = gdal.Translate(Tileout, stackclip, srcWin=Chip, bandList=Output_Channels)\n",
    "                del output\n",
    "    print(\"Done\")"
   ]
  },
  {
   "cell_type": "code",
   "execution_count": 4,
   "id": "3be4158e",
   "metadata": {
    "scrolled": true
   },
   "outputs": [
    {
     "name": "stdout",
     "output_type": "stream",
     "text": [
      "F:/Berlin-DOP_2020/Road_side/New folder/\n",
      "Maskeddop10rgbi_391_5821_1_be_2020_roadside_1.png\n",
      "Maskeddop10rgbi_391_5822_1_be_2020_roadside_1.png\n",
      "Maskeddop10rgbi_391_5823_1_be_2020_roadside_1.png\n"
     ]
    },
    {
     "ename": "SystemError",
     "evalue": "<built-in function TranslateInternal> returned a result with an error set",
     "output_type": "error",
     "traceback": [
      "\u001b[1;31m---------------------------------------------------------------------------\u001b[0m",
      "\u001b[1;31mKeyboardInterrupt\u001b[0m                         Traceback (most recent call last)",
      "\u001b[1;32m~\\.conda\\envs\\test\\lib\\site-packages\\osgeo\\gdal.py\u001b[0m in \u001b[0;36m<lambda>\u001b[1;34m(self, name, value)\u001b[0m\n\u001b[0;32m   2009\u001b[0m         \u001b[0m__swig_setmethods__\u001b[0m\u001b[1;33m.\u001b[0m\u001b[0mupdate\u001b[0m\u001b[1;33m(\u001b[0m\u001b[0mgetattr\u001b[0m\u001b[1;33m(\u001b[0m\u001b[0m_s\u001b[0m\u001b[1;33m,\u001b[0m \u001b[1;34m'__swig_setmethods__'\u001b[0m\u001b[1;33m,\u001b[0m \u001b[1;33m{\u001b[0m\u001b[1;33m}\u001b[0m\u001b[1;33m)\u001b[0m\u001b[1;33m)\u001b[0m\u001b[1;33m\u001b[0m\u001b[1;33m\u001b[0m\u001b[0m\n\u001b[1;32m-> 2010\u001b[1;33m     \u001b[0m__setattr__\u001b[0m \u001b[1;33m=\u001b[0m \u001b[1;32mlambda\u001b[0m \u001b[0mself\u001b[0m\u001b[1;33m,\u001b[0m \u001b[0mname\u001b[0m\u001b[1;33m,\u001b[0m \u001b[0mvalue\u001b[0m\u001b[1;33m:\u001b[0m \u001b[0m_swig_setattr\u001b[0m\u001b[1;33m(\u001b[0m\u001b[0mself\u001b[0m\u001b[1;33m,\u001b[0m \u001b[0mDataset\u001b[0m\u001b[1;33m,\u001b[0m \u001b[0mname\u001b[0m\u001b[1;33m,\u001b[0m \u001b[0mvalue\u001b[0m\u001b[1;33m)\u001b[0m\u001b[1;33m\u001b[0m\u001b[1;33m\u001b[0m\u001b[0m\n\u001b[0m\u001b[0;32m   2011\u001b[0m     \u001b[0m__swig_getmethods__\u001b[0m \u001b[1;33m=\u001b[0m \u001b[1;33m{\u001b[0m\u001b[1;33m}\u001b[0m\u001b[1;33m\u001b[0m\u001b[1;33m\u001b[0m\u001b[0m\n",
      "\u001b[1;31mKeyboardInterrupt\u001b[0m: ",
      "\nThe above exception was the direct cause of the following exception:\n",
      "\u001b[1;31mSystemError\u001b[0m                               Traceback (most recent call last)",
      "\u001b[1;32m<ipython-input-4-216ba05d1097>\u001b[0m in \u001b[0;36m<module>\u001b[1;34m\u001b[0m\n\u001b[0;32m      6\u001b[0m     \u001b[0ms\u001b[0m \u001b[1;33m=\u001b[0m \u001b[0mdirectory\u001b[0m\u001b[1;33m.\u001b[0m\u001b[0mreplace\u001b[0m\u001b[1;33m(\u001b[0m\u001b[1;34m'\\\\'\u001b[0m\u001b[1;33m,\u001b[0m\u001b[1;34m'/'\u001b[0m\u001b[1;33m)\u001b[0m\u001b[1;33m\u001b[0m\u001b[1;33m\u001b[0m\u001b[0m\n\u001b[0;32m      7\u001b[0m     \u001b[0mprint\u001b[0m\u001b[1;33m(\u001b[0m\u001b[0ms\u001b[0m\u001b[1;33m)\u001b[0m\u001b[1;33m\u001b[0m\u001b[1;33m\u001b[0m\u001b[0m\n\u001b[1;32m----> 8\u001b[1;33m     \u001b[0mgeo_tile\u001b[0m\u001b[1;33m(\u001b[0m\u001b[0ms\u001b[0m\u001b[1;33m,\u001b[0m \u001b[0mimages_out\u001b[0m\u001b[1;33m,\u001b[0m \u001b[0mtile_size\u001b[0m\u001b[1;33m=\u001b[0m\u001b[1;36m1000\u001b[0m\u001b[1;33m,\u001b[0m \u001b[0moverlap\u001b[0m\u001b[1;33m=\u001b[0m\u001b[1;36m0.0\u001b[0m\u001b[1;33m,\u001b[0m\u001b[0msearch\u001b[0m\u001b[1;33m=\u001b[0m\u001b[1;34m\"*.png\"\u001b[0m\u001b[1;33m,\u001b[0m\u001b[0mOutput_Channels\u001b[0m\u001b[1;33m=\u001b[0m\u001b[1;33m[\u001b[0m\u001b[1;36m1\u001b[0m\u001b[1;33m,\u001b[0m\u001b[1;36m2\u001b[0m\u001b[1;33m,\u001b[0m\u001b[1;36m3\u001b[0m\u001b[1;33m]\u001b[0m\u001b[1;33m)\u001b[0m \u001b[1;31m#No overlap for testing.\u001b[0m\u001b[1;33m\u001b[0m\u001b[1;33m\u001b[0m\u001b[0m\n\u001b[0m\u001b[0;32m      9\u001b[0m \u001b[1;33m\u001b[0m\u001b[0m\n",
      "\u001b[1;32m<ipython-input-3-abd50d20715c>\u001b[0m in \u001b[0;36mgeo_tile\u001b[1;34m(untiled_image_dir, tiles_out_dir, tile_size, overlap, search, Output_Channels)\u001b[0m\n\u001b[0;32m     53\u001b[0m                 \u001b[0mTileout\u001b[0m \u001b[1;33m=\u001b[0m \u001b[0mtiles_out_dir\u001b[0m \u001b[1;33m+\u001b[0m \u001b[1;34m\"/\"\u001b[0m \u001b[1;33m+\u001b[0m\u001b[0;31m \u001b[0m\u001b[0;31m\\\u001b[0m\u001b[1;33m\u001b[0m\u001b[1;33m\u001b[0m\u001b[0m\n\u001b[0;32m     54\u001b[0m                 \u001b[0mstr\u001b[0m\u001b[1;33m(\u001b[0m\u001b[0mstackclip\u001b[0m\u001b[1;33m.\u001b[0m\u001b[0msplit\u001b[0m\u001b[1;33m(\u001b[0m\u001b[1;34m'_'\u001b[0m\u001b[1;33m)\u001b[0m\u001b[1;33m[\u001b[0m\u001b[1;36m0\u001b[0m\u001b[1;33m]\u001b[0m\u001b[1;33m)\u001b[0m \u001b[1;33m+\u001b[0m \u001b[1;34m\"_\"\u001b[0m \u001b[1;33m+\u001b[0m \u001b[0mstr\u001b[0m\u001b[1;33m(\u001b[0m\u001b[0mname_x\u001b[0m\u001b[1;33m)\u001b[0m \u001b[1;33m+\u001b[0m \u001b[1;34m\"_\"\u001b[0m\u001b[1;33m+\u001b[0m \u001b[0mstr\u001b[0m\u001b[1;33m(\u001b[0m\u001b[0mname_y\u001b[0m\u001b[1;33m)\u001b[0m \u001b[1;33m+\u001b[0m\u001b[1;34m\"_tile_\"\u001b[0m \u001b[1;33m+\u001b[0m \u001b[0mstr\u001b[0m\u001b[1;33m(\u001b[0m\u001b[0mcount\u001b[0m\u001b[1;33m)\u001b[0m \u001b[1;33m+\u001b[0m \u001b[1;34m\".jpeg\"\u001b[0m\u001b[1;33m\u001b[0m\u001b[1;33m\u001b[0m\u001b[0m\n\u001b[1;32m---> 55\u001b[1;33m                 \u001b[0moutput\u001b[0m \u001b[1;33m=\u001b[0m \u001b[0mgdal\u001b[0m\u001b[1;33m.\u001b[0m\u001b[0mTranslate\u001b[0m\u001b[1;33m(\u001b[0m\u001b[0mTileout\u001b[0m\u001b[1;33m,\u001b[0m \u001b[0mstackclip\u001b[0m\u001b[1;33m,\u001b[0m \u001b[0msrcWin\u001b[0m\u001b[1;33m=\u001b[0m\u001b[0mChip\u001b[0m\u001b[1;33m,\u001b[0m \u001b[0mbandList\u001b[0m\u001b[1;33m=\u001b[0m\u001b[0mOutput_Channels\u001b[0m\u001b[1;33m)\u001b[0m\u001b[1;33m\u001b[0m\u001b[1;33m\u001b[0m\u001b[0m\n\u001b[0m\u001b[0;32m     56\u001b[0m                 \u001b[1;32mdel\u001b[0m \u001b[0moutput\u001b[0m\u001b[1;33m\u001b[0m\u001b[1;33m\u001b[0m\u001b[0m\n\u001b[0;32m     57\u001b[0m     \u001b[0mprint\u001b[0m\u001b[1;33m(\u001b[0m\u001b[1;34m\"Done\"\u001b[0m\u001b[1;33m)\u001b[0m\u001b[1;33m\u001b[0m\u001b[1;33m\u001b[0m\u001b[0m\n",
      "\u001b[1;32m~\\.conda\\envs\\test\\lib\\site-packages\\osgeo\\gdal.py\u001b[0m in \u001b[0;36mTranslate\u001b[1;34m(destName, srcDS, **kwargs)\u001b[0m\n\u001b[0;32m    415\u001b[0m         \u001b[0msrcDS\u001b[0m \u001b[1;33m=\u001b[0m \u001b[0mOpen\u001b[0m\u001b[1;33m(\u001b[0m\u001b[0msrcDS\u001b[0m\u001b[1;33m)\u001b[0m\u001b[1;33m\u001b[0m\u001b[1;33m\u001b[0m\u001b[0m\n\u001b[0;32m    416\u001b[0m \u001b[1;33m\u001b[0m\u001b[0m\n\u001b[1;32m--> 417\u001b[1;33m     \u001b[1;32mreturn\u001b[0m \u001b[0mTranslateInternal\u001b[0m\u001b[1;33m(\u001b[0m\u001b[0mdestName\u001b[0m\u001b[1;33m,\u001b[0m \u001b[0msrcDS\u001b[0m\u001b[1;33m,\u001b[0m \u001b[0mopts\u001b[0m\u001b[1;33m,\u001b[0m \u001b[0mcallback\u001b[0m\u001b[1;33m,\u001b[0m \u001b[0mcallback_data\u001b[0m\u001b[1;33m)\u001b[0m\u001b[1;33m\u001b[0m\u001b[1;33m\u001b[0m\u001b[0m\n\u001b[0m\u001b[0;32m    418\u001b[0m \u001b[1;33m\u001b[0m\u001b[0m\n\u001b[0;32m    419\u001b[0m def WarpOptions(options=None, format=None,\n",
      "\u001b[1;32m~\\.conda\\envs\\test\\lib\\site-packages\\osgeo\\gdal.py\u001b[0m in \u001b[0;36mTranslateInternal\u001b[1;34m(*args)\u001b[0m\n\u001b[0;32m   3322\u001b[0m \u001b[1;32mdef\u001b[0m \u001b[0mTranslateInternal\u001b[0m\u001b[1;33m(\u001b[0m\u001b[1;33m*\u001b[0m\u001b[0margs\u001b[0m\u001b[1;33m)\u001b[0m\u001b[1;33m:\u001b[0m\u001b[1;33m\u001b[0m\u001b[1;33m\u001b[0m\u001b[0m\n\u001b[0;32m   3323\u001b[0m     \u001b[1;34m\"\"\"TranslateInternal(char const * dest, Dataset dataset, GDALTranslateOptions translateOptions, GDALProgressFunc callback=0, void * callback_data=None) -> Dataset\"\"\"\u001b[0m\u001b[1;33m\u001b[0m\u001b[1;33m\u001b[0m\u001b[0m\n\u001b[1;32m-> 3324\u001b[1;33m     \u001b[1;32mreturn\u001b[0m \u001b[0m_gdal\u001b[0m\u001b[1;33m.\u001b[0m\u001b[0mTranslateInternal\u001b[0m\u001b[1;33m(\u001b[0m\u001b[1;33m*\u001b[0m\u001b[0margs\u001b[0m\u001b[1;33m)\u001b[0m\u001b[1;33m\u001b[0m\u001b[1;33m\u001b[0m\u001b[0m\n\u001b[0m\u001b[0;32m   3325\u001b[0m \u001b[1;32mclass\u001b[0m \u001b[0mGDALWarpAppOptions\u001b[0m\u001b[1;33m(\u001b[0m\u001b[0m_object\u001b[0m\u001b[1;33m)\u001b[0m\u001b[1;33m:\u001b[0m\u001b[1;33m\u001b[0m\u001b[1;33m\u001b[0m\u001b[0m\n\u001b[0;32m   3326\u001b[0m     \u001b[1;34m\"\"\"Proxy of C++ GDALWarpAppOptions class.\"\"\"\u001b[0m\u001b[1;33m\u001b[0m\u001b[1;33m\u001b[0m\u001b[0m\n",
      "\u001b[1;31mSystemError\u001b[0m: <built-in function TranslateInternal> returned a result with an error set"
     ]
    }
   ],
   "source": [
    "os.chdir(root)\n",
    "dirs=glob.glob(f\"{root}/\")\n",
    "\n",
    "#print(dirs)\n",
    "for directory in dirs:\n",
    "    s = directory.replace('\\\\','/')\n",
    "    print(s)\n",
    "    geo_tile(s, images_out, tile_size=1000, overlap=0.0,search=\"*.png\",Output_Channels=[1,2,3]) #No overlap for testing.\n",
    "    "
   ]
  }
 ],
 "metadata": {
  "kernelspec": {
   "display_name": "Python 3",
   "language": "python",
   "name": "python3"
  },
  "language_info": {
   "codemirror_mode": {
    "name": "ipython",
    "version": 3
   },
   "file_extension": ".py",
   "mimetype": "text/x-python",
   "name": "python",
   "nbconvert_exporter": "python",
   "pygments_lexer": "ipython3",
   "version": "3.7.10"
  }
 },
 "nbformat": 4,
 "nbformat_minor": 5
}
