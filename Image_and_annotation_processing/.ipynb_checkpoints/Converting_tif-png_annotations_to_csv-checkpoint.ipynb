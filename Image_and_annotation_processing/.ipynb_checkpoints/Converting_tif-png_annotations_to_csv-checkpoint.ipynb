{
 "cells": [
  {
   "cell_type": "code",
   "execution_count": 21,
   "id": "71522fd7",
   "metadata": {},
   "outputs": [],
   "source": [
    "import numpy as np\n",
    "from PIL import Image\n",
    "Image.MAX_IMAGE_PIXELS = None\n",
    "import os\n",
    "import glob\n",
    "import solaris as sol\n",
    "import os\n",
    "import glob\n",
    "import gdal\n",
    "from tqdm import tqdm\n",
    "import cv2\n",
    "import shutil\n",
    "import pandas as pd\n",
    "import numpy as np\n",
    "from skimage.morphology import square, dilation\n",
    "from matplotlib import pyplot as plt\n",
    "from solaris.eval.iou import calculate_iou\n",
    "import geopandas as gpd\n",
    "from matplotlib import pyplot as plt"
   ]
  },
  {
   "cell_type": "code",
   "execution_count": 2,
   "id": "78c37b8b",
   "metadata": {},
   "outputs": [],
   "source": [
    "annotation_path= \"E:/cowc/datasets/All together/Annotations/\"  ##cowc ground_truth_sets location after download\n",
    "os.chdir(annotation_path)\n",
    "annotations=glob.glob(\"*.png\")\n",
    "\n",
    "for annotation in annotations:\n",
    "    anno_path = os.path.join(annotation_path,annotation)\n",
    "    im = Image.open(anno_path)\n",
    "    data = np.asarray(im)\n",
    "    data = data[:,:,0:3]\n",
    "    y_ind, x_ind, rgba_ind = data.nonzero()\n",
    "    \n",
    "    # define bbox given x, y and ensure bbox is within image bounds\n",
    "    def get_bbox(x, y, x_max, y_max):\n",
    "        x1 = max(0, x - 20)     # returns zero if x-20 is negative\n",
    "        x2 = min(x_max, x + 20) # returns x_max if x+20 is greater than x_max\n",
    "        y1 = max(0, y - 20)\n",
    "        y2 = min(y_max, y + 20)\n",
    "        return x1, y1, x2, y2\n",
    "\n",
    "    x1, y1, x2, y2 = get_bbox(x_ind[0], y_ind[0], im.width, im.height)\n",
    "    \n",
    "    img_path = \"E:/cowc/datasets/All together/Images/\"\n",
    "    E_img_path = os.path.join(annotation.replace('_Annotated_Cars', ''))\n",
    "    #E_img_path = os.path.join(img_path,annotation.replace('_Annotated_Cars', ''))\n",
    "    #os.chdir(img_path)\n",
    "    #images=glob.glob(\"*.png\")\n",
    "    with open('annotations.csv', 'a') as f:\n",
    "        #for image in images:\n",
    "            #image_path = os.path.join(img_path,image)\n",
    "        for x, y in zip(x_ind, y_ind):\n",
    "            x1, y1, x2, y2 = get_bbox(x, y, im.width, im.height)\n",
    "            line = f'{E_img_path},{x1},{y1},{x2},{y2},car\\n'\n",
    "            f.write(line)"
   ]
  },
  {
   "cell_type": "code",
   "execution_count": null,
   "id": "cd245df7",
   "metadata": {},
   "outputs": [],
   "source": []
  },
  {
   "cell_type": "code",
   "execution_count": 61,
   "id": "a9b2d27b",
   "metadata": {},
   "outputs": [],
   "source": [
    "annotation_path= \"E:/cowc/Masks/12TVK220980-CROP_Annotated_Cars.png_tile_1.png\""
   ]
  },
  {
   "cell_type": "code",
   "execution_count": 63,
   "id": "28395cb1",
   "metadata": {},
   "outputs": [],
   "source": [
    "annotation_path = 'E:/cowc/Masks/12TVK220980-CROP_Annotated_Cars.png_tile_1.png'\n",
    "im = Image.open(annotation_path)\n",
    "data = np.asarray(im)"
   ]
  },
  {
   "cell_type": "code",
   "execution_count": 69,
   "id": "df3f8d0e",
   "metadata": {},
   "outputs": [
    {
     "data": {
      "image/png": "[encoded data removed]",
      "text/plain": [
       "<PIL.PngImagePlugin.PngImageFile image mode=L size=512x512 at 0x154AF454F08>"
      ]
     },
     "execution_count": 69,
     "metadata": {},
     "output_type": "execute_result"
    }
   ],
   "source": [
    "im"
   ]
  },
  {
   "cell_type": "code",
   "execution_count": 68,
   "id": "d8b928c2",
   "metadata": {},
   "outputs": [
    {
     "ename": "IndexError",
     "evalue": "too many indices for array: array is 2-dimensional, but 3 were indexed",
     "output_type": "error",
     "traceback": [
      "\u001b[1;31m---------------------------------------------------------------------------\u001b[0m",
      "\u001b[1;31mIndexError\u001b[0m                                Traceback (most recent call last)",
      "\u001b[1;32m<ipython-input-68-3f95325df4a3>\u001b[0m in \u001b[0;36m<module>\u001b[1;34m\u001b[0m\n\u001b[1;32m----> 1\u001b[1;33m \u001b[0mdata\u001b[0m \u001b[1;33m=\u001b[0m \u001b[0mdata\u001b[0m\u001b[1;33m[\u001b[0m\u001b[1;33m:\u001b[0m\u001b[1;33m,\u001b[0m\u001b[1;33m:\u001b[0m\u001b[1;33m,\u001b[0m\u001b[1;36m0\u001b[0m\u001b[1;33m:\u001b[0m\u001b[1;36m3\u001b[0m\u001b[1;33m]\u001b[0m\u001b[1;33m\u001b[0m\u001b[1;33m\u001b[0m\u001b[0m\n\u001b[0m\u001b[0;32m      2\u001b[0m \u001b[0my_ind\u001b[0m\u001b[1;33m,\u001b[0m \u001b[0mx_ind\u001b[0m\u001b[1;33m,\u001b[0m \u001b[0mrgba_ind\u001b[0m \u001b[1;33m=\u001b[0m \u001b[0mdata\u001b[0m\u001b[1;33m.\u001b[0m\u001b[0mnonzero\u001b[0m\u001b[1;33m(\u001b[0m\u001b[1;33m)\u001b[0m\u001b[1;33m\u001b[0m\u001b[1;33m\u001b[0m\u001b[0m\n",
      "\u001b[1;31mIndexError\u001b[0m: too many indices for array: array is 2-dimensional, but 3 were indexed"
     ]
    }
   ],
   "source": [
    "data = data[:,:,0:3]"
   ]
  },
  {
   "cell_type": "code",
   "execution_count": 12,
   "id": "da3e4bc2",
   "metadata": {},
   "outputs": [
    {
     "data": {
      "text/plain": [
       "array([[0, 0, 0, ..., 0, 0, 0],\n",
       "       [0, 0, 0, ..., 0, 0, 0],\n",
       "       [0, 0, 0, ..., 0, 0, 0],\n",
       "       ...,\n",
       "       [0, 0, 0, ..., 0, 0, 0],\n",
       "       [0, 0, 0, ..., 0, 0, 0],\n",
       "       [0, 0, 0, ..., 0, 0, 0]], dtype=uint8)"
      ]
     },
     "execution_count": 12,
     "metadata": {},
     "output_type": "execute_result"
    }
   ],
   "source": [
    "data"
   ]
  },
  {
   "cell_type": "code",
   "execution_count": 14,
   "id": "095676d3",
   "metadata": {},
   "outputs": [],
   "source": [
    "image = gdal.Open(annotation_path).ReadAsArray()"
   ]
  },
  {
   "cell_type": "code",
   "execution_count": 24,
   "id": "a4b1bfac",
   "metadata": {},
   "outputs": [
    {
     "data": {
      "text/plain": [
       "<matplotlib.image.AxesImage at 0x154ad5a4d48>"
      ]
     },
     "execution_count": 24,
     "metadata": {},
     "output_type": "execute_result"
    },
    {
     "data": {
      "image/png": "[encoded data removed]",
      "text/plain": [
       "<Figure size 432x288 with 1 Axes>"
      ]
     },
     "metadata": {
      "needs_background": "light"
     },
     "output_type": "display_data"
    }
   ],
   "source": [
    "plt.imshow(image)"
   ]
  },
  {
   "cell_type": "code",
   "execution_count": 35,
   "id": "c51eff6d",
   "metadata": {},
   "outputs": [],
   "source": [
    "annotation_path_tif= \"E:/cowc/Masks/12TVK220980-CROP_Annotated_Cars.png_tile_1.tif\""
   ]
  },
  {
   "cell_type": "code",
   "execution_count": 36,
   "id": "205d37e9",
   "metadata": {},
   "outputs": [],
   "source": [
    "ds = gdal.Open(annotation_path_tif)"
   ]
  },
  {
   "cell_type": "code",
   "execution_count": 39,
   "id": "2315a086",
   "metadata": {},
   "outputs": [],
   "source": [
    "xyz = gdal.Translate(\"dem.xyz\",ds)"
   ]
  },
  {
   "cell_type": "code",
   "execution_count": 43,
   "id": "dc00cbb1",
   "metadata": {},
   "outputs": [],
   "source": [
    "zz = np.asarray(ds)"
   ]
  },
  {
   "cell_type": "code",
   "execution_count": 47,
   "id": "1182e2de",
   "metadata": {},
   "outputs": [
    {
     "data": {
      "text/plain": [
       "<matplotlib.image.AxesImage at 0x154af3ded08>"
      ]
     },
     "execution_count": 47,
     "metadata": {},
     "output_type": "execute_result"
    },
    {
     "data": {
      "image/png": "[encoded data removed]",
      "text/plain": [
       "<Figure size 432x288 with 1 Axes>"
      ]
     },
     "metadata": {
      "needs_background": "light"
     },
     "output_type": "display_data"
    }
   ],
   "source": [
    "annotation_path = 'E:/cowc/Masks/12TVK220980-CROP_Annotated_Cars.png_tile_1.png'\n",
    "im = Image.open(annotation_path)\n",
    "plt.imshow(im)"
   ]
  },
  {
   "cell_type": "code",
   "execution_count": 49,
   "id": "5273a459",
   "metadata": {},
   "outputs": [],
   "source": [
    "imarray = np.array(im)"
   ]
  },
  {
   "cell_type": "code",
   "execution_count": 56,
   "id": "715b6b30",
   "metadata": {},
   "outputs": [
    {
     "data": {
      "text/plain": [
       "(512, 512)"
      ]
     },
     "execution_count": 56,
     "metadata": {},
     "output_type": "execute_result"
    }
   ],
   "source": [
    "imarray.shape"
   ]
  },
  {
   "cell_type": "code",
   "execution_count": 59,
   "id": "3fc6796a",
   "metadata": {},
   "outputs": [],
   "source": [
    "#data = data[:,:,0:5]\n",
    "y_ind, x_ind = imarray.nonzero()"
   ]
  },
  {
   "cell_type": "code",
   "execution_count": 83,
   "id": "4545cd1f",
   "metadata": {},
   "outputs": [
    {
     "data": {
      "text/plain": [
       "0"
      ]
     },
     "execution_count": 83,
     "metadata": {},
     "output_type": "execute_result"
    }
   ],
   "source": [
    "data[20,12]"
   ]
  }
 ],
 "metadata": {
  "kernelspec": {
   "display_name": "Python 3",
   "language": "python",
   "name": "python3"
  },
  "language_info": {
   "codemirror_mode": {
    "name": "ipython",
    "version": 3
   },
   "file_extension": ".py",
   "mimetype": "text/x-python",
   "name": "python",
   "nbconvert_exporter": "python",
   "pygments_lexer": "ipython3",
   "version": "3.7.10"
  }
 },
 "nbformat": 4,
 "nbformat_minor": 5
}
