{
 "cells": [
  {
   "cell_type": "code",
   "execution_count": 1,
   "id": "224a11b1",
   "metadata": {},
   "outputs": [],
   "source": [
    "# import the necessary packages\n",
    "import numpy as np\n",
    "import pandas as pd\n",
    "import cv2\n",
    "import glob\n",
    "import csv\n",
    "import itertools\n",
    "import os"
   ]
  },
  {
   "cell_type": "code",
   "execution_count": 2,
   "id": "ba0bf3fb",
   "metadata": {},
   "outputs": [],
   "source": [
    "root= \"F:/Berlin-DOP_2020/Road_side/New folder\"  #ground truth dataset with tiles of res 10000*10000\n",
    "images_out= \"F:/Berlin-DOP_2020/Road_side/New folder/\" #output location for splitted images"
   ]
  },
  {
   "cell_type": "code",
   "execution_count": 3,
   "id": "516b0ccf",
   "metadata": {},
   "outputs": [],
   "source": [
    "def GBN_convert(image_dir, out_dir, search=\".tif\",overlap=0.0):\n",
    "    \n",
    "    if not os.path.exists(out_dir):\n",
    "        os.makedirs(out_dir)\n",
    "    \n",
    "    os.chdir(image_dir)\n",
    "    search2 = \"*\" + search\n",
    "    images = glob.glob(search2)\n",
    "    \n",
    "    for x in images:\n",
    "        \n",
    "        image = cv2.imread(x, cv2.IMREAD_UNCHANGED)\n",
    "        (R, G, B, N) = cv2.split(image)\n",
    "        Merged = cv2.merge([R,G,N])\n",
    "        Tileout= out_dir + str(x).replace('.tif','.png')\n",
    "        cv2.imwrite(Tileout, Merged)\n",
    "    print(\"Done\")"
   ]
  },
  {
   "cell_type": "code",
   "execution_count": 4,
   "id": "86af3781",
   "metadata": {},
   "outputs": [
    {
     "name": "stdout",
     "output_type": "stream",
     "text": [
      "Done\n"
     ]
    }
   ],
   "source": [
    "os.chdir(root)\n",
    "dirs=glob.glob(f\"{root}/\")\n",
    "\n",
    "#print(dirs)\n",
    "for directory in dirs:\n",
    "    s = directory.replace('\\\\','/')\n",
    "    GBN_convert(s, images_out, overlap=0.0,search=\"*.tif\") #No overlap for testing."
   ]
  },
  {
   "cell_type": "code",
   "execution_count": 5,
   "id": "d4647f36",
   "metadata": {},
   "outputs": [],
   "source": [
    "# # #Reading the image file and saving the colour bands in to 4 seperate bands\n",
    "# image = cv2.imread(\"F:/Berlin-DOP_2020/Road_side/dop10rgbi_391_5821_1_be_2020_roadside.tif\", cv2.IMREAD_UNCHANGED)\n"
   ]
  },
  {
   "cell_type": "code",
   "execution_count": 6,
   "id": "47892547",
   "metadata": {},
   "outputs": [],
   "source": [
    "# (R, G, B, N) = cv2.split(image)"
   ]
  },
  {
   "cell_type": "code",
   "execution_count": 7,
   "id": "98834580",
   "metadata": {},
   "outputs": [],
   "source": [
    "# cv2.imshow(\"Red\", R)\n",
    "# cv2.imshow(\"Green\", G)\n",
    "# cv2.imshow(\"Blue\", B)\n",
    "# cv2.waitKey(0)"
   ]
  },
  {
   "cell_type": "code",
   "execution_count": 8,
   "id": "f1191034",
   "metadata": {},
   "outputs": [],
   "source": [
    "# cv2.imshow(\"NIR\", N)"
   ]
  },
  {
   "cell_type": "code",
   "execution_count": 9,
   "id": "08999737",
   "metadata": {},
   "outputs": [],
   "source": [
    "# cv2.imwrite('F:/Berlin-DOP_2020/test/dop10rgbi_391_5824_1_be_2020_GBNP.png', Merged)"
   ]
  },
  {
   "cell_type": "code",
   "execution_count": 10,
   "id": "cf311c36",
   "metadata": {},
   "outputs": [],
   "source": [
    "# from gdal import gdalinfo"
   ]
  },
  {
   "cell_type": "code",
   "execution_count": 11,
   "id": "3379733d",
   "metadata": {},
   "outputs": [],
   "source": [
    "# gdal.info(\"F:/Berlin-DOP_2020/Road_side/dop10rgbi_391_5821_1_be_2020_roadside.tif\")"
   ]
  }
 ],
 "metadata": {
  "kernelspec": {
   "display_name": "Python 3",
   "language": "python",
   "name": "python3"
  },
  "language_info": {
   "codemirror_mode": {
    "name": "ipython",
    "version": 3
   },
   "file_extension": ".py",
   "mimetype": "text/x-python",
   "name": "python",
   "nbconvert_exporter": "python",
   "pygments_lexer": "ipython3",
   "version": "3.7.10"
  }
 },
 "nbformat": 4,
 "nbformat_minor": 5
}
