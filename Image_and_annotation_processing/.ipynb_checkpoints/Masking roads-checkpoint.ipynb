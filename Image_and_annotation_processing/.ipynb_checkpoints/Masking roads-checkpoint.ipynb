{
 "cells": [
  {
   "cell_type": "code",
   "execution_count": 2,
   "id": "e0599651",
   "metadata": {},
   "outputs": [],
   "source": [
    "# Importing libraries\n",
    "from PIL import Image\n",
    "import PIL\n",
    "PIL.Image.MAX_IMAGE_PIXELS = 400000000\n",
    "import cv2\n",
    "import numpy as np"
   ]
  },
  {
   "cell_type": "code",
   "execution_count": null,
   "id": "db471a83",
   "metadata": {},
   "outputs": [],
   "source": [
    "#Converting relevant tif images to PNG images\n",
    "\n",
    "im = Image.open('B:/Masters/Thesis/Datasets/Berlin_DOP_test/rgb_392_5820.tif')\n",
    "im.save('B:/Masters/Thesis/Datasets/Berlin_DOP_test/rgb_392_5820.png')\n",
    "del im\n",
    "\n",
    "im = Image.open('B:/Masters/Thesis/Datasets/Berlin_DOP_test/Roads_Only.tif')\n",
    "im.save('B:/Masters/Thesis/Datasets/Berlin_DOP_test/Roads_Only.png')\n",
    "del im"
   ]
  },
  {
   "cell_type": "code",
   "execution_count": 22,
   "id": "78e92bec",
   "metadata": {},
   "outputs": [
    {
     "data": {
      "text/plain": [
       "True"
      ]
     },
     "execution_count": 22,
     "metadata": {},
     "output_type": "execute_result"
    }
   ],
   "source": [
    "# Converting the Roads raster to a binary mask\n",
    "\n",
    "# load image with alpha channel\n",
    "img = cv2.imread('B:/Masters/Thesis/Datasets/Berlin_DOP_test/Roads_Only.png', cv2.IMREAD_UNCHANGED)\n",
    "\n",
    "# extract alpha channel\n",
    "alpha = img[:, :, 3]\n",
    "\n",
    "# threshold alpha channel\n",
    "alpha = cv2.threshold(alpha, 0, 255, cv2.THRESH_BINARY)[1]\n",
    "\n",
    "#Inverting the mask\n",
    "mask = cv2.bitwise_not(alpha)\n",
    "\n",
    "# save output\n",
    "cv2.imwrite('B:/Masters/Thesis/Datasets/Berlin_DOP_test/Roads_Only_mask.png', mask)"
   ]
  },
  {
   "cell_type": "code",
   "execution_count": 25,
   "id": "2afb7dce",
   "metadata": {},
   "outputs": [],
   "source": [
    "#Applying the mask to the image\n",
    "\n",
    "img = cv2.imread('B:/Masters/Thesis/Datasets/Berlin_DOP_test/rgb_392_5820.png')\n",
    "mask = cv2.imread('B:/Masters/Thesis/Datasets/Berlin_DOP_test/Roads_Only_mask.png',0)\n",
    "res = cv2.bitwise_and(img,img,mask = mask)\n",
    "\n",
    "# Saving the putput\n",
    "cv2.imwrite('B:/Masters/Thesis/Datasets/Berlin_DOP_test/Masked_rgb_392_5820.png', res)"
   ]
  },
  {
   "cell_type": "code",
   "execution_count": null,
   "id": "8ac82e46",
   "metadata": {},
   "outputs": [],
   "source": []
  }
 ],
 "metadata": {
  "kernelspec": {
   "display_name": "Python 3",
   "language": "python",
   "name": "python3"
  },
  "language_info": {
   "codemirror_mode": {
    "name": "ipython",
    "version": 3
   },
   "file_extension": ".py",
   "mimetype": "text/x-python",
   "name": "python",
   "nbconvert_exporter": "python",
   "pygments_lexer": "ipython3",
   "version": "3.7.10"
  }
 },
 "nbformat": 4,
 "nbformat_minor": 5
}
