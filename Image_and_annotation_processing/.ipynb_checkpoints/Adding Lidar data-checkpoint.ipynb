{
 "cells": [
  {
   "cell_type": "code",
   "execution_count": 1,
   "id": "bc958118",
   "metadata": {},
   "outputs": [],
   "source": [
    "import numpy as np\n",
    "import pandas as pd\n",
    "import cv2\n",
    "import csv\n",
    "import itertools"
   ]
  },
  {
   "cell_type": "code",
   "execution_count": 2,
   "id": "5fb78559",
   "metadata": {},
   "outputs": [],
   "source": [
    "image = cv2.imread(\"F:/Berlin-DOP_2020/Lidar/dop10rgbi_391_5821_1_be_2020.tif\", cv2.IMREAD_UNCHANGED)\n",
    "(R, G, B, N) = cv2.split(image)"
   ]
  },
  {
   "cell_type": "code",
   "execution_count": 3,
   "id": "7a3ee127",
   "metadata": {},
   "outputs": [],
   "source": [
    "lidar = cv2.imread(\"F:/Berlin-DOP_2020/Lidar/Highest raster/3dm_33_392_5824_1_be.tif\", cv2.IMREAD_UNCHANGED)\n",
    "lidar = lidar[:-1,:-1]"
   ]
  },
  {
   "cell_type": "code",
   "execution_count": 4,
   "id": "e42e2456",
   "metadata": {},
   "outputs": [],
   "source": [
    "merged = cv2.merge([R,G,lidar])"
   ]
  },
  {
   "cell_type": "code",
   "execution_count": 5,
   "id": "ba113ce4",
   "metadata": {},
   "outputs": [
    {
     "data": {
      "text/plain": [
       "True"
      ]
     },
     "execution_count": 5,
     "metadata": {},
     "output_type": "execute_result"
    }
   ],
   "source": [
    "cv2.imwrite('F:/Berlin-DOP_2020/Lidar/Highest raster/gbi_392_5824_1_be_2020.png', merged)"
   ]
  }
 ],
 "metadata": {
  "kernelspec": {
   "display_name": "Python 3",
   "language": "python",
   "name": "python3"
  },
  "language_info": {
   "codemirror_mode": {
    "name": "ipython",
    "version": 3
   },
   "file_extension": ".py",
   "mimetype": "text/x-python",
   "name": "python",
   "nbconvert_exporter": "python",
   "pygments_lexer": "ipython3",
   "version": "3.7.10"
  }
 },
 "nbformat": 4,
 "nbformat_minor": 5
}
