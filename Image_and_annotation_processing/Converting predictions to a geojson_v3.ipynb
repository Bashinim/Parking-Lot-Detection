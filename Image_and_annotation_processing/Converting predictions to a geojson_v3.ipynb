{
 "cells": [
  {
   "cell_type": "code",
   "execution_count": 1,
   "id": "f6895cd7",
   "metadata": {},
   "outputs": [],
   "source": [
    "import json\n",
    "import numpy as np\n",
    "import glob"
   ]
  },
  {
   "cell_type": "code",
   "execution_count": 2,
   "id": "7bddb5aa",
   "metadata": {},
   "outputs": [],
   "source": [
    "iteration = 0\n",
    "json_file = {}\n",
    "json_file[\"type\"] = \"FeatureCollection\"\n",
    "json_file[\"name\"] = \"Predictions\"\n",
    "json_file[\"crs\"] = { \"type\": \"name\", \"properties\": { \"name\": \"urn:ogc:def:crs:EPSG::25833\" }}\n",
    "json_file[\"features\"] = []\n",
    "for imageName in glob.glob('F:/Berlin-DOP_2020/Processed images/Split_images_3/Predictions merge/*.json'):\n",
    "    f = open(imageName)\n",
    "    data = json.load(f)\n",
    "    f.close()\n",
    "    file_name_1 = f.name.replace(\"F:/Berlin-DOP_2020/Processed images/Split_images_3/Predictions merge\\\\\",\"\")\n",
    "    file_name_2 = file_name_1.replace(\".json\",\"\")\n",
    "    file_name_3 = f.name.replace(\".json\",\".geojson\")\n",
    "    x_cor = float(str(file_name_2.split('_')[1]))\n",
    "    y_cor = float(str(file_name_2.split('_')[2]))\n",
    "    for i in data['shapes']:\n",
    "        iteration = iteration+1\n",
    "        label = i['label']\n",
    "        cords = i['points']\n",
    "        cord_final = []\n",
    "        for j in cords:\n",
    "            cord = j\n",
    "            x = cord[0]*0.1\n",
    "            y = (500 - cord[1])*0.1\n",
    "            x_rel = x_cor+x\n",
    "            y_rel = y_cor+y\n",
    "            cord_f = [x_rel,y_rel]\n",
    "            cord_final.append(cord_f)\n",
    "        other = {\"type\": \"Feature\", \"properties\": { \"id\": iteration, \"label\": label}, \n",
    "                             \"geometry\":{ \"type\": \"MultiPolygon\", \"coordinates\": [[np.flip(cord_final,axis=0).tolist()]]}}\n",
    "        json_file[\"features\"].append(other)"
   ]
  },
  {
   "cell_type": "code",
   "execution_count": 3,
   "id": "08bcc898",
   "metadata": {},
   "outputs": [],
   "source": [
    "#sjson_file"
   ]
  },
  {
   "cell_type": "code",
   "execution_count": 4,
   "id": "c8066370",
   "metadata": {},
   "outputs": [],
   "source": [
    "with open(\"F:/Berlin-DOP_2020/Processed images/Split_images_3/Predictions.geojson\", 'w') as file:\n",
    "    json.dump(json_file, file,indent=4,  separators=(',', ':',))"
   ]
  },
  {
   "cell_type": "code",
   "execution_count": 5,
   "id": "aec04619",
   "metadata": {},
   "outputs": [],
   "source": [
    "#json_file"
   ]
  }
 ],
 "metadata": {
  "kernelspec": {
   "display_name": "Python 3",
   "language": "python",
   "name": "python3"
  },
  "language_info": {
   "codemirror_mode": {
    "name": "ipython",
    "version": 3
   },
   "file_extension": ".py",
   "mimetype": "text/x-python",
   "name": "python",
   "nbconvert_exporter": "python",
   "pygments_lexer": "ipython3",
   "version": "3.7.10"
  }
 },
 "nbformat": 4,
 "nbformat_minor": 5
}
