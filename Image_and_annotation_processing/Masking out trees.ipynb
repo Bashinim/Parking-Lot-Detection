{
 "cells": [
  {
   "cell_type": "code",
   "execution_count": 1,
   "id": "e0599651",
   "metadata": {},
   "outputs": [],
   "source": [
    "# Importing libraries\n",
    "from PIL import Image\n",
    "import PIL\n",
    "PIL.Image.MAX_IMAGE_PIXELS = 400000000\n",
    "import cv2\n",
    "import numpy as np\n",
    "import matplotlib.pyplot as plt"
   ]
  },
  {
   "cell_type": "code",
   "execution_count": 2,
   "id": "db471a83",
   "metadata": {},
   "outputs": [],
   "source": [
    "#Converting relevant tif images to PNG images\n",
    "im = Image.open('F:/Berlin-DOP_2020/Processed images_new/dop10rgbi_392_5821_1_be_2020_trees.tif')\n",
    "im.convert('RGB').save('F:/Berlin-DOP_2020/Processed images_new/dop10rgbi_392_5821_1_be_2020_trees.png')\n",
    "del im"
   ]
  },
  {
   "cell_type": "code",
   "execution_count": 3,
   "id": "821aff8f",
   "metadata": {},
   "outputs": [],
   "source": [
    "# load image with alpha channel\n",
    "img = cv2.imread('F:/Berlin-DOP_2020/Processed images_new/dop10rgbi_392_5821_1_be_2020_trees.png', cv2.IMREAD_UNCHANGED)\n"
   ]
  },
  {
   "cell_type": "code",
   "execution_count": 4,
   "id": "5604d535",
   "metadata": {},
   "outputs": [],
   "source": [
    "image_copy = img.copy()\n",
    "\n",
    "black_pixels_mask = np.all(img == [0, 0, 0], axis=-1)\n",
    "\n",
    "non_black_pixels_mask = np.any(img != [0, 0, 0], axis=-1)  \n",
    "# or non_black_pixels_mask = ~black_pixels_mask\n",
    "\n",
    "image_copy[black_pixels_mask] = [255, 255, 255]\n",
    "image_copy[non_black_pixels_mask] = [0, 0, 0]"
   ]
  },
  {
   "cell_type": "code",
   "execution_count": 5,
   "id": "24c31335",
   "metadata": {},
   "outputs": [
    {
     "data": {
      "text/plain": [
       "True"
      ]
     },
     "execution_count": 5,
     "metadata": {},
     "output_type": "execute_result"
    }
   ],
   "source": [
    "# save output\n",
    "cv2.imwrite('F:/Berlin-DOP_2020/Processed images_new/dop10rgbi_392_5821_1_be_2020_trees_mask.png', image_copy)"
   ]
  },
  {
   "cell_type": "code",
   "execution_count": 6,
   "id": "b8c89a5b",
   "metadata": {},
   "outputs": [],
   "source": [
    "# #Converting relevant tif images to PNG images\n",
    "# im = Image.open('F:/Berlin-DOP_2020/Processed images_new/dop10rgbi_391_5824_1_be_2020.tif')\n",
    "# im.convert('RGB').save('F:/Berlin-DOP_2020/Processed images_new/dop10rgbi_391_5824_1_be_2020.png')\n",
    "# del im"
   ]
  },
  {
   "cell_type": "code",
   "execution_count": 7,
   "id": "2afb7dce",
   "metadata": {},
   "outputs": [
    {
     "data": {
      "text/plain": [
       "True"
      ]
     },
     "execution_count": 7,
     "metadata": {},
     "output_type": "execute_result"
    }
   ],
   "source": [
    "#Applying the mask to the image\n",
    "\n",
    "#img = cv2.imread('F:/Berlin-DOP_2020/Processed images_new/Maskeddop10rgbi_391_5824_1_be_2020.png')\n",
    "img = cv2.imread('F:/Berlin-DOP_2020/Processed images_new/Maskeddop10rgbi_392_5821_1_be_2020.png')\n",
    "mask = cv2.imread('F:/Berlin-DOP_2020/Processed images_new/dop10rgbi_392_5821_1_be_2020_trees_mask.png',0)\n",
    "res = cv2.bitwise_and(img,img,mask = mask)\n",
    "\n",
    "# Saving the putput\n",
    "cv2.imwrite('F:/Berlin-DOP_2020/Processed images_new/Trees masked/Maskeddop10rgbi_392_5821_1_be_2020.png', res)"
   ]
  }
 ],
 "metadata": {
  "kernelspec": {
   "display_name": "Python 3 (ipykernel)",
   "language": "python",
   "name": "python3"
  },
  "language_info": {
   "codemirror_mode": {
    "name": "ipython",
    "version": 3
   },
   "file_extension": ".py",
   "mimetype": "text/x-python",
   "name": "python",
   "nbconvert_exporter": "python",
   "pygments_lexer": "ipython3",
   "version": "3.9.7"
  }
 },
 "nbformat": 4,
 "nbformat_minor": 5
}
