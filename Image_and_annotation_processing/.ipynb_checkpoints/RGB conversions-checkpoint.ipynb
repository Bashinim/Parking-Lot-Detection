{
 "cells": [
  {
   "cell_type": "code",
   "execution_count": null,
   "id": "d9623a45",
   "metadata": {},
   "outputs": [],
   "source": [
    "# import the necessary packages\n",
    "import numpy as np\n",
    "import pandas as pd\n",
    "import cv2\n",
    "import csv\n",
    "import itertools"
   ]
  },
  {
   "cell_type": "code",
   "execution_count": null,
   "id": "e2b304c0",
   "metadata": {},
   "outputs": [],
   "source": [
    "# Reading the image file and saving the colour bands in to 4 seperate bands\n",
    "image = cv2.imread(\"F:/Berlin-DOP_2020/test/dop10rgbi_391_5824_1_be_2020.tif\", cv2.IMREAD_UNCHANGED)\n",
    "(R, G, B, N) = cv2.split(image)"
   ]
  },
  {
   "cell_type": "code",
   "execution_count": null,
   "id": "115fdb99",
   "metadata": {},
   "outputs": [],
   "source": [
    "# show each channel individually\n",
    "# cv2.imshow(\"Red\", R)\n",
    "# cv2.imshow(\"Green\", G)\n",
    "# cv2.imshow(\"Blue\", B)\n",
    "# cv2.waitKey(0)"
   ]
  },
  {
   "cell_type": "code",
   "execution_count": null,
   "id": "f9d8b92b",
   "metadata": {},
   "outputs": [],
   "source": [
    "# merge the image back together again\n",
    "#merged = cv2.merge([R, G, B, N])\n",
    "# cv2.imshow(\"Merged\", merged)\n",
    "# cv2.waitKey(0)\n",
    "# cv2.destroyAllWindows()"
   ]
  },
  {
   "cell_type": "code",
   "execution_count": null,
   "id": "9a087456",
   "metadata": {},
   "outputs": [],
   "source": [
    "# Writing the merged image to a png file\n",
    "#cv2.imwrite('F:/Berlin-DOP_2020/test/dop10rgbi_391_5824_1_be_2020.png', merged)"
   ]
  },
  {
   "cell_type": "code",
   "execution_count": null,
   "id": "fa8d1c31",
   "metadata": {},
   "outputs": [],
   "source": [
    "# Checking if the bands are saved properly\n",
    "# xx = cv2.imread(\"F:/Berlin-DOP_2020/test/dop10rgbi_368_5808_1_be_2020.png\", cv2.IMREAD_UNCHANGED)\n",
    "# (R_1, G_2, B_3, N_4) = cv2.split(image)\n",
    "# N_4.shape"
   ]
  },
  {
   "cell_type": "code",
   "execution_count": null,
   "id": "9ae27b80",
   "metadata": {},
   "outputs": [],
   "source": [
    "# Reading the roughness indexes\n",
    "df = pd.read_csv('B:/Masters/Thesis/Git/Point_cloud.csv')\n",
    "\n",
    "# Reading the tiff file name\n",
    "file_name = 'dop10rgbi_391_5824_1_be_2020'\n",
    "\n",
    "# Data processing steps\n",
    "df = df.rename(columns={'0': 'x', '1': 'y', '2': 'values' })\n",
    "df['values'] =  df['values'].apply(lambda x: x.replace('[','').replace(']',''))\n",
    "df['values'] = df['values'].astype(float)\n",
    "\n",
    "# Taking the x and y limits of the image\n",
    "x_start = (int(file_name.split('_')[1]))*1000\n",
    "x_end = x_start+1000\n",
    "y_start = (int(file_name.split('_')[2]))*1000\n",
    "y_end = y_start +1000\n",
    "\n",
    "print(x_start, x_end, y_start, y_end)"
   ]
  },
  {
   "cell_type": "code",
   "execution_count": null,
   "id": "a8155c9d",
   "metadata": {},
   "outputs": [],
   "source": [
    "# Making a dataframe to include all pixels within the range\n",
    "X = np.arange(x_start,x_end)\n",
    "Y = np.arange(y_start,y_end)\n",
    "\n",
    "combs = np.array(list(itertools.product(X,Y)))\n",
    "combs_df = pd.DataFrame(combs)\n",
    "combs_df.columns = ['x_round', 'y_round']\n",
    "combs_df.dtypes\n",
    "\n",
    "df['x_round'] = df.x.round(0).astype('int')\n",
    "df['y_round'] = df.y.round(0).astype('int')\n",
    "df[(df.x_round == 391000) & (df.x_round == 8524000)]\n",
    "df\n",
    "\n",
    "final = combs_df.merge(right = df\n",
    "               , right_on = ['x_round', 'y_round']\n",
    "               , left_on = ['x_round', 'y_round']\n",
    "               , how = 'left')"
   ]
  },
  {
   "cell_type": "code",
   "execution_count": null,
   "id": "0bbd4f6c",
   "metadata": {},
   "outputs": [],
   "source": [
    "# Filling the missing values\n",
    "final[\"values\"] = final[\"values\"].fillna(method='ffill')"
   ]
  },
  {
   "cell_type": "code",
   "execution_count": null,
   "id": "71eeba4b",
   "metadata": {},
   "outputs": [],
   "source": []
  },
  {
   "cell_type": "code",
   "execution_count": null,
   "id": "b219abd8",
   "metadata": {},
   "outputs": [],
   "source": [
    "final"
   ]
  },
  {
   "cell_type": "code",
   "execution_count": null,
   "id": "48881189",
   "metadata": {},
   "outputs": [],
   "source": [
    "#final_wo_dup = final.groupby(['x_round','y_round']).mean()"
   ]
  },
  {
   "cell_type": "code",
   "execution_count": null,
   "id": "55c2b836",
   "metadata": {},
   "outputs": [],
   "source": [
    "final = final.groupby(['x_round','y_round']).agg({'values': 'mean'}).reset_index()"
   ]
  },
  {
   "cell_type": "code",
   "execution_count": null,
   "id": "75761243",
   "metadata": {},
   "outputs": [],
   "source": [
    "final"
   ]
  },
  {
   "cell_type": "code",
   "execution_count": null,
   "id": "c02de8b8",
   "metadata": {},
   "outputs": [],
   "source": [
    "final.values"
   ]
  },
  {
   "cell_type": "code",
   "execution_count": null,
   "id": "0a743721",
   "metadata": {},
   "outputs": [],
   "source": [
    "xx = final[\"values\"].values.reshape((1000, 1000))"
   ]
  },
  {
   "cell_type": "code",
   "execution_count": null,
   "id": "dd5dd859",
   "metadata": {},
   "outputs": [],
   "source": [
    "xx.shape"
   ]
  },
  {
   "cell_type": "code",
   "execution_count": null,
   "id": "5ad542b0",
   "metadata": {},
   "outputs": [],
   "source": [
    "R.shape"
   ]
  },
  {
   "cell_type": "code",
   "execution_count": null,
   "id": "58b6834a",
   "metadata": {},
   "outputs": [],
   "source": [
    "#cv2.imshow(\"XX\", xx)"
   ]
  },
  {
   "cell_type": "code",
   "execution_count": null,
   "id": "93aa99a9",
   "metadata": {},
   "outputs": [],
   "source": [
    "resized = cv2.resize(xx, (10000,10000), interpolation=cv2.INTER_AREA)"
   ]
  },
  {
   "cell_type": "code",
   "execution_count": null,
   "id": "0b03acfd",
   "metadata": {},
   "outputs": [],
   "source": [
    "#cv2.imshow(\"resized\", resized)"
   ]
  },
  {
   "cell_type": "code",
   "execution_count": null,
   "id": "f998059a",
   "metadata": {},
   "outputs": [],
   "source": [
    "new_arr = ((resized - resized.min()) * (1/(resized.max() - resized.min()) * 255)).astype('uint8')"
   ]
  },
  {
   "cell_type": "code",
   "execution_count": null,
   "id": "5704816f",
   "metadata": {},
   "outputs": [],
   "source": [
    "Final_merged = cv2.merge([ G, B, N, new_arr])"
   ]
  },
  {
   "cell_type": "code",
   "execution_count": null,
   "id": "c1b73532",
   "metadata": {},
   "outputs": [],
   "source": [
    "new_arr.max()"
   ]
  },
  {
   "cell_type": "code",
   "execution_count": null,
   "id": "0a1b216f",
   "metadata": {},
   "outputs": [],
   "source": [
    "cv2.imshow(\"Final_merged\", Final_merged)\n",
    "cv2.waitKey(0)"
   ]
  }
 ],
 "metadata": {
  "kernelspec": {
   "display_name": "Python 3 (ipykernel)",
   "language": "python",
   "name": "python3"
  },
  "language_info": {
   "codemirror_mode": {
    "name": "ipython",
    "version": 3
   },
   "file_extension": ".py",
   "mimetype": "text/x-python",
   "name": "python",
   "nbconvert_exporter": "python",
   "pygments_lexer": "ipython3",
   "version": "3.8.11"
  }
 },
 "nbformat": 4,
 "nbformat_minor": 5
}
