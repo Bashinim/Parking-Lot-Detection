{
 "cells": [
  {
   "cell_type": "code",
   "execution_count": 1,
   "id": "e0599651",
   "metadata": {},
   "outputs": [],
   "source": [
    "# Importing libraries\n",
    "from PIL import Image\n",
    "import PIL\n",
    "PIL.Image.MAX_IMAGE_PIXELS = 400000000\n",
    "import cv2\n",
    "import numpy as np"
   ]
  },
  {
   "cell_type": "code",
   "execution_count": 2,
   "id": "db471a83",
   "metadata": {},
   "outputs": [],
   "source": [
    "#Converting relevant tif images to PNG images\n",
    "im = Image.open('F:/Berlin-DOP_2020/Processed images/dop10rgbi_391_5824_1_be_2020_trees.tif')\n",
    "im.convert('RGB').save('F:/Berlin-DOP_2020/Processed images/dop10rgbi_391_5824_1_be_2020_trees.png')\n",
    "del im"
   ]
  },
  {
   "cell_type": "code",
   "execution_count": 3,
   "id": "78e92bec",
   "metadata": {},
   "outputs": [
    {
     "data": {
      "text/plain": [
       "True"
      ]
     },
     "execution_count": 3,
     "metadata": {},
     "output_type": "execute_result"
    }
   ],
   "source": [
    "# Converting the Roads raster to a binary mask\n",
    "\n",
    "# load image with alpha channel\n",
    "img = cv2.imread('F:/Berlin-DOP_2020/Processed images/dop10rgbi_391_5824_1_be_2020_trees.png', cv2.IMREAD_UNCHANGED)\n",
    "\n",
    "# extract alpha channel\n",
    "alpha = img[:, :]\n",
    "\n",
    "# threshold alpha channel\n",
    "alpha = cv2.threshold(alpha, 0, 255, cv2.THRESH_BINARY)[1]\n",
    "\n",
    "#Inverting the mask\n",
    "mask = cv2.bitwise_not(alpha)\n",
    "\n",
    "# save output\n",
    "cv2.imwrite('F:/Berlin-DOP_2020/Processed images/dop10rgbi_391_5824_1_be_2020_trees_mask.png', mask)"
   ]
  },
  {
   "cell_type": "code",
   "execution_count": 5,
   "id": "2afb7dce",
   "metadata": {},
   "outputs": [
    {
     "ename": "error",
     "evalue": "OpenCV(4.5.2) C:\\Users\\runneradmin\\AppData\\Local\\Temp\\pip-req-build-dn5w5exm\\opencv\\modules\\core\\src\\arithm.cpp:230: error: (-215:Assertion failed) (mtype == CV_8U || mtype == CV_8S) && _mask.sameSize(*psrc1) in function 'cv::binary_op'\n",
     "output_type": "error",
     "traceback": [
      "\u001b[1;31m---------------------------------------------------------------------------\u001b[0m",
      "\u001b[1;31merror\u001b[0m                                     Traceback (most recent call last)",
      "\u001b[1;32m<ipython-input-5-454ff7cbeec5>\u001b[0m in \u001b[0;36m<module>\u001b[1;34m\u001b[0m\n\u001b[0;32m      3\u001b[0m \u001b[0mimg\u001b[0m \u001b[1;33m=\u001b[0m \u001b[0mcv2\u001b[0m\u001b[1;33m.\u001b[0m\u001b[0mimread\u001b[0m\u001b[1;33m(\u001b[0m\u001b[1;34m'F:/Berlin-DOP_2020/Processed images/Masked_dataset/Maskeddop10rgbi_391_5824_1_be_2020.png'\u001b[0m\u001b[1;33m)\u001b[0m\u001b[1;33m\u001b[0m\u001b[1;33m\u001b[0m\u001b[0m\n\u001b[0;32m      4\u001b[0m \u001b[0mmask\u001b[0m \u001b[1;33m=\u001b[0m \u001b[0mcv2\u001b[0m\u001b[1;33m.\u001b[0m\u001b[0mimread\u001b[0m\u001b[1;33m(\u001b[0m\u001b[1;34m'F:/Berlin-DOP_2020/Processed images/dop10rgbi_391_5824_1_be_2020_trees_mask.png'\u001b[0m\u001b[1;33m,\u001b[0m\u001b[1;36m0\u001b[0m\u001b[1;33m)\u001b[0m\u001b[1;33m\u001b[0m\u001b[1;33m\u001b[0m\u001b[0m\n\u001b[1;32m----> 5\u001b[1;33m \u001b[0mres\u001b[0m \u001b[1;33m=\u001b[0m \u001b[0mcv2\u001b[0m\u001b[1;33m.\u001b[0m\u001b[0mbitwise_and\u001b[0m\u001b[1;33m(\u001b[0m\u001b[0mimg\u001b[0m\u001b[1;33m,\u001b[0m\u001b[0mimg\u001b[0m\u001b[1;33m,\u001b[0m\u001b[0mmask\u001b[0m \u001b[1;33m=\u001b[0m \u001b[0mmask\u001b[0m\u001b[1;33m)\u001b[0m\u001b[1;33m\u001b[0m\u001b[1;33m\u001b[0m\u001b[0m\n\u001b[0m\u001b[0;32m      6\u001b[0m \u001b[1;33m\u001b[0m\u001b[0m\n\u001b[0;32m      7\u001b[0m \u001b[1;31m# Saving the putput\u001b[0m\u001b[1;33m\u001b[0m\u001b[1;33m\u001b[0m\u001b[1;33m\u001b[0m\u001b[0m\n",
      "\u001b[1;31merror\u001b[0m: OpenCV(4.5.2) C:\\Users\\runneradmin\\AppData\\Local\\Temp\\pip-req-build-dn5w5exm\\opencv\\modules\\core\\src\\arithm.cpp:230: error: (-215:Assertion failed) (mtype == CV_8U || mtype == CV_8S) && _mask.sameSize(*psrc1) in function 'cv::binary_op'\n"
     ]
    }
   ],
   "source": [
    "#Applying the mask to the image\n",
    "\n",
    "img = cv2.imread('F:/Berlin-DOP_2020/Processed images/Masked_dataset/Maskeddop10rgbi_391_5824_1_be_2020.png')\n",
    "mask = cv2.imread('F:/Berlin-DOP_2020/Processed images/dop10rgbi_391_5824_1_be_2020_trees_mask.png',0)\n",
    "res = cv2.bitwise_and(img,img,mask = mask)\n",
    "\n",
    "# Saving the putput\n",
    "cv2.imwrite('F:/Berlin-DOP_2020/Processed images/Trees/Maskeddop10rgbi_391_5824_1_be_2020.png', res)"
   ]
  }
 ],
 "metadata": {
  "kernelspec": {
   "display_name": "Python 3",
   "language": "python",
   "name": "python3"
  },
  "language_info": {
   "codemirror_mode": {
    "name": "ipython",
    "version": 3
   },
   "file_extension": ".py",
   "mimetype": "text/x-python",
   "name": "python",
   "nbconvert_exporter": "python",
   "pygments_lexer": "ipython3",
   "version": "3.7.10"
  }
 },
 "nbformat": 4,
 "nbformat_minor": 5
}
