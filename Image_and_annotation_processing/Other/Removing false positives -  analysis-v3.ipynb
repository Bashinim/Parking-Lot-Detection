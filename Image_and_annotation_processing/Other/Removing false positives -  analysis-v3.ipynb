{
 "cells": [
  {
   "cell_type": "code",
   "execution_count": 1,
   "id": "2297c2a3",
   "metadata": {},
   "outputs": [],
   "source": [
    "import numpy as np\n",
    "import matplotlib.pyplot as plt\n",
    "import geopandas as gpd\n",
    "import pandas as pd\n",
    "from sklearn.cluster import KMeans\n",
    "import cartopy.crs as ccrs\n",
    "import matplotlib.patches as mpatches\n",
    "from shapely.affinity import translate"
   ]
  },
  {
   "cell_type": "code",
   "execution_count": 2,
   "id": "45a4df6c",
   "metadata": {},
   "outputs": [],
   "source": [
    "# Reading the file with metrices\n",
    "df_parking = gpd.read_file(\"F:/Berlin-DOP_2020/Processed images_new/Predictions.GPKG\", crs='EPSG:25833', Layer= \"Predict_with_info\", driver=\"GPKG\")"
   ]
  },
  {
   "cell_type": "code",
   "execution_count": 3,
   "id": "cdb7c894",
   "metadata": {},
   "outputs": [],
   "source": [
    "# Renaming the column heading\n",
    "df_parking = df_parking.rename(columns={'True or False': 'True_or_False'})"
   ]
  },
  {
   "cell_type": "code",
   "execution_count": 4,
   "id": "65151bfa",
   "metadata": {},
   "outputs": [],
   "source": [
    "# Adding a buffer of 1 meters to parking polygons\n",
    "df_parking.geometry = df_parking.geometry.buffer(1)"
   ]
  },
  {
   "cell_type": "code",
   "execution_count": 5,
   "id": "af5370b9",
   "metadata": {},
   "outputs": [
    {
     "data": {
      "text/html": [
       "<div>\n",
       "<style scoped>\n",
       "    .dataframe tbody tr th:only-of-type {\n",
       "        vertical-align: middle;\n",
       "    }\n",
       "\n",
       "    .dataframe tbody tr th {\n",
       "        vertical-align: top;\n",
       "    }\n",
       "\n",
       "    .dataframe thead th {\n",
       "        text-align: right;\n",
       "    }\n",
       "</style>\n",
       "<table border=\"1\" class=\"dataframe\">\n",
       "  <thead>\n",
       "    <tr style=\"text-align: right;\">\n",
       "      <th></th>\n",
       "      <th>index_right</th>\n",
       "      <th>id</th>\n",
       "      <th>label</th>\n",
       "      <th>parking_area_m2</th>\n",
       "      <th>geometry</th>\n",
       "    </tr>\n",
       "  </thead>\n",
       "  <tbody>\n",
       "    <tr>\n",
       "      <th>0</th>\n",
       "      <td>8602</td>\n",
       "      <td>8608</td>\n",
       "      <td>PK-space-occupied</td>\n",
       "      <td>48.033860</td>\n",
       "      <td>POLYGON ((392967.956 5821003.838, 392967.956 5...</td>\n",
       "    </tr>\n",
       "    <tr>\n",
       "      <th>1</th>\n",
       "      <td>8600</td>\n",
       "      <td>8606</td>\n",
       "      <td>PK-space-empty</td>\n",
       "      <td>48.033860</td>\n",
       "      <td>POLYGON ((392967.956 5821003.838, 392967.956 5...</td>\n",
       "    </tr>\n",
       "    <tr>\n",
       "      <th>2</th>\n",
       "      <td>8601</td>\n",
       "      <td>8607</td>\n",
       "      <td>PK-space-occupied</td>\n",
       "      <td>48.033860</td>\n",
       "      <td>POLYGON ((392967.956 5821003.838, 392967.956 5...</td>\n",
       "    </tr>\n",
       "    <tr>\n",
       "      <th>3</th>\n",
       "      <td>8597</td>\n",
       "      <td>8603</td>\n",
       "      <td>PK-space-occupied</td>\n",
       "      <td>48.033860</td>\n",
       "      <td>POLYGON ((392967.956 5821003.838, 392967.956 5...</td>\n",
       "    </tr>\n",
       "    <tr>\n",
       "      <th>4</th>\n",
       "      <td>1963</td>\n",
       "      <td>1968</td>\n",
       "      <td>PK-space-occupied</td>\n",
       "      <td>14.047920</td>\n",
       "      <td>POLYGON ((392135.950 5820998.151, 392135.900 5...</td>\n",
       "    </tr>\n",
       "    <tr>\n",
       "      <th>...</th>\n",
       "      <td>...</td>\n",
       "      <td>...</td>\n",
       "      <td>...</td>\n",
       "      <td>...</td>\n",
       "      <td>...</td>\n",
       "    </tr>\n",
       "    <tr>\n",
       "      <th>8971</th>\n",
       "      <td>6026</td>\n",
       "      <td>6032</td>\n",
       "      <td>PK-space-occupied</td>\n",
       "      <td>10.368876</td>\n",
       "      <td>POLYGON ((392624.119 5824996.170, 392624.071 5...</td>\n",
       "    </tr>\n",
       "    <tr>\n",
       "      <th>8972</th>\n",
       "      <td>5129</td>\n",
       "      <td>5135</td>\n",
       "      <td>PK-space-occupied</td>\n",
       "      <td>34.782663</td>\n",
       "      <td>POLYGON ((392538.454 5824993.451, 392538.400 5...</td>\n",
       "    </tr>\n",
       "    <tr>\n",
       "      <th>8973</th>\n",
       "      <td>3069</td>\n",
       "      <td>3075</td>\n",
       "      <td>PK-space-occupied</td>\n",
       "      <td>33.143099</td>\n",
       "      <td>POLYGON ((392242.851 5824996.771, 392242.736 5...</td>\n",
       "    </tr>\n",
       "    <tr>\n",
       "      <th>8974</th>\n",
       "      <td>517</td>\n",
       "      <td>521</td>\n",
       "      <td>PK-space-occupied</td>\n",
       "      <td>23.646757</td>\n",
       "      <td>POLYGON ((391527.381 5825001.729, 391529.477 5...</td>\n",
       "    </tr>\n",
       "    <tr>\n",
       "      <th>8975</th>\n",
       "      <td>2270</td>\n",
       "      <td>2276</td>\n",
       "      <td>PK-space-occupied</td>\n",
       "      <td>21.709780</td>\n",
       "      <td>POLYGON ((392116.801 5825001.999, 392116.850 5...</td>\n",
       "    </tr>\n",
       "  </tbody>\n",
       "</table>\n",
       "<p>8976 rows × 5 columns</p>\n",
       "</div>"
      ],
      "text/plain": [
       "      index_right    id              label  parking_area_m2  \\\n",
       "0            8602  8608  PK-space-occupied        48.033860   \n",
       "1            8600  8606     PK-space-empty        48.033860   \n",
       "2            8601  8607  PK-space-occupied        48.033860   \n",
       "3            8597  8603  PK-space-occupied        48.033860   \n",
       "4            1963  1968  PK-space-occupied        14.047920   \n",
       "...           ...   ...                ...              ...   \n",
       "8971         6026  6032  PK-space-occupied        10.368876   \n",
       "8972         5129  5135  PK-space-occupied        34.782663   \n",
       "8973         3069  3075  PK-space-occupied        33.143099   \n",
       "8974          517   521  PK-space-occupied        23.646757   \n",
       "8975         2270  2276  PK-space-occupied        21.709780   \n",
       "\n",
       "                                               geometry  \n",
       "0     POLYGON ((392967.956 5821003.838, 392967.956 5...  \n",
       "1     POLYGON ((392967.956 5821003.838, 392967.956 5...  \n",
       "2     POLYGON ((392967.956 5821003.838, 392967.956 5...  \n",
       "3     POLYGON ((392967.956 5821003.838, 392967.956 5...  \n",
       "4     POLYGON ((392135.950 5820998.151, 392135.900 5...  \n",
       "...                                                 ...  \n",
       "8971  POLYGON ((392624.119 5824996.170, 392624.071 5...  \n",
       "8972  POLYGON ((392538.454 5824993.451, 392538.400 5...  \n",
       "8973  POLYGON ((392242.851 5824996.771, 392242.736 5...  \n",
       "8974  POLYGON ((391527.381 5825001.729, 391529.477 5...  \n",
       "8975  POLYGON ((392116.801 5825001.999, 392116.850 5...  \n",
       "\n",
       "[8976 rows x 5 columns]"
      ]
     },
     "execution_count": 5,
     "metadata": {},
     "output_type": "execute_result"
    }
   ],
   "source": [
    "df_parking"
   ]
  },
  {
   "cell_type": "code",
   "execution_count": 6,
   "id": "1e3691a6",
   "metadata": {},
   "outputs": [
    {
     "name": "stderr",
     "output_type": "stream",
     "text": [
      "C:\\ProgramData\\Anaconda3\\envs\\geopandas\\lib\\site-packages\\pyproj\\crs\\crs.py:53: FutureWarning: '+init=<authority>:<code>' syntax is deprecated. '<authority>:<code>' is the preferred initialization method. When making the change, be mindful of axis order changes: https://pyproj4.github.io/pyproj/stable/gotchas.html#axis-order-changes-in-proj-6\n",
      "  return _prepare_from_string(\" \".join(pjargs))\n"
     ]
    }
   ],
   "source": [
    "# Creating a new fataframe that has union of overlapping geometries\n",
    "geoms = df_parking.geometry.unary_union\n",
    "df = gpd.GeoDataFrame(geometry=[geoms])\n",
    "df = df.explode().reset_index(drop=True)\n",
    "df.set_geometry = df.geometry\n",
    "df.crs = {'init' :'epsg:25833'}"
   ]
  },
  {
   "cell_type": "code",
   "execution_count": 7,
   "id": "e99c8cf4",
   "metadata": {},
   "outputs": [
    {
     "data": {
      "text/plain": [
       "<Projected CRS: EPSG:25833>\n",
       "Name: ETRS89 / UTM zone 33N\n",
       "Axis Info [cartesian]:\n",
       "- E[east]: Easting (metre)\n",
       "- N[north]: Northing (metre)\n",
       "Area of Use:\n",
       "- name: Europe - 12°E to 18°E and ETRS89 by country\n",
       "- bounds: (12.0, 46.4, 18.01, 84.01)\n",
       "Coordinate Operation:\n",
       "- name: UTM zone 33N\n",
       "- method: Transverse Mercator\n",
       "Datum: European Terrestrial Reference System 1989\n",
       "- Ellipsoid: GRS 1980\n",
       "- Prime Meridian: Greenwich"
      ]
     },
     "execution_count": 7,
     "metadata": {},
     "output_type": "execute_result"
    }
   ],
   "source": [
    "df.crs"
   ]
  },
  {
   "cell_type": "code",
   "execution_count": 9,
   "id": "297ca12d",
   "metadata": {},
   "outputs": [
    {
     "ename": "ValueError",
     "evalue": "'index_left' and 'index_right' cannot be names in the frames being joined",
     "output_type": "error",
     "traceback": [
      "\u001b[1;31m---------------------------------------------------------------------------\u001b[0m",
      "\u001b[1;31mValueError\u001b[0m                                Traceback (most recent call last)",
      "\u001b[1;32m~\\AppData\\Local\\Temp/ipykernel_26476/3929440053.py\u001b[0m in \u001b[0;36m<module>\u001b[1;34m\u001b[0m\n\u001b[0;32m      1\u001b[0m \u001b[1;31m# Taking the spatial join of the dataframes\u001b[0m\u001b[1;33m\u001b[0m\u001b[1;33m\u001b[0m\u001b[0m\n\u001b[1;32m----> 2\u001b[1;33m \u001b[0mmerged_df\u001b[0m \u001b[1;33m=\u001b[0m \u001b[0mgpd\u001b[0m\u001b[1;33m.\u001b[0m\u001b[0msjoin\u001b[0m\u001b[1;33m(\u001b[0m\u001b[0mdf\u001b[0m\u001b[1;33m,\u001b[0m\u001b[0mdf_parking\u001b[0m\u001b[1;33m,\u001b[0m \u001b[0mhow\u001b[0m\u001b[1;33m=\u001b[0m\u001b[1;34m\"inner\"\u001b[0m\u001b[1;33m)\u001b[0m\u001b[1;33m\u001b[0m\u001b[1;33m\u001b[0m\u001b[0m\n\u001b[0m\u001b[0;32m      3\u001b[0m \u001b[1;33m\u001b[0m\u001b[0m\n\u001b[0;32m      4\u001b[0m \u001b[0mmerged_df\u001b[0m\u001b[1;33m[\u001b[0m\u001b[1;34m\"parking_area_m2\"\u001b[0m\u001b[1;33m]\u001b[0m \u001b[1;33m=\u001b[0m \u001b[0mmerged_df\u001b[0m\u001b[1;33m[\u001b[0m\u001b[1;34m'geometry'\u001b[0m\u001b[1;33m]\u001b[0m\u001b[1;33m.\u001b[0m\u001b[0marea\u001b[0m\u001b[1;33m\u001b[0m\u001b[1;33m\u001b[0m\u001b[0m\n",
      "\u001b[1;32mC:\\ProgramData\\Anaconda3\\envs\\geopandas\\lib\\site-packages\\geopandas\\tools\\sjoin.py\u001b[0m in \u001b[0;36msjoin\u001b[1;34m(left_df, right_df, how, op, lsuffix, rsuffix)\u001b[0m\n\u001b[0;32m     85\u001b[0m     \u001b[0mdimension\u001b[0m \u001b[1;32mis\u001b[0m \u001b[1;32mnot\u001b[0m \u001b[0mtaken\u001b[0m \u001b[0minto\u001b[0m \u001b[0maccount\u001b[0m\u001b[1;33m.\u001b[0m\u001b[1;33m\u001b[0m\u001b[1;33m\u001b[0m\u001b[0m\n\u001b[0;32m     86\u001b[0m     \"\"\"\n\u001b[1;32m---> 87\u001b[1;33m     \u001b[0m_basic_checks\u001b[0m\u001b[1;33m(\u001b[0m\u001b[0mleft_df\u001b[0m\u001b[1;33m,\u001b[0m \u001b[0mright_df\u001b[0m\u001b[1;33m,\u001b[0m \u001b[0mhow\u001b[0m\u001b[1;33m,\u001b[0m \u001b[0mlsuffix\u001b[0m\u001b[1;33m,\u001b[0m \u001b[0mrsuffix\u001b[0m\u001b[1;33m)\u001b[0m\u001b[1;33m\u001b[0m\u001b[1;33m\u001b[0m\u001b[0m\n\u001b[0m\u001b[0;32m     88\u001b[0m \u001b[1;33m\u001b[0m\u001b[0m\n\u001b[0;32m     89\u001b[0m     \u001b[0mindices\u001b[0m \u001b[1;33m=\u001b[0m \u001b[0m_geom_predicate_query\u001b[0m\u001b[1;33m(\u001b[0m\u001b[0mleft_df\u001b[0m\u001b[1;33m,\u001b[0m \u001b[0mright_df\u001b[0m\u001b[1;33m,\u001b[0m \u001b[0mop\u001b[0m\u001b[1;33m)\u001b[0m\u001b[1;33m\u001b[0m\u001b[1;33m\u001b[0m\u001b[0m\n",
      "\u001b[1;32mC:\\ProgramData\\Anaconda3\\envs\\geopandas\\lib\\site-packages\\geopandas\\tools\\sjoin.py\u001b[0m in \u001b[0;36m_basic_checks\u001b[1;34m(left_df, right_df, how, lsuffix, rsuffix)\u001b[0m\n\u001b[0;32m    138\u001b[0m         \u001b[0mright_df\u001b[0m\u001b[1;33m.\u001b[0m\u001b[0mcolumns\u001b[0m\u001b[1;33m.\u001b[0m\u001b[0misin\u001b[0m\u001b[1;33m(\u001b[0m\u001b[1;33m[\u001b[0m\u001b[0mindex_left\u001b[0m\u001b[1;33m,\u001b[0m \u001b[0mindex_right\u001b[0m\u001b[1;33m]\u001b[0m\u001b[1;33m)\u001b[0m\u001b[1;33m\u001b[0m\u001b[1;33m\u001b[0m\u001b[0m\n\u001b[0;32m    139\u001b[0m     ):\n\u001b[1;32m--> 140\u001b[1;33m         raise ValueError(\n\u001b[0m\u001b[0;32m    141\u001b[0m             \u001b[1;34m\"'{0}' and '{1}' cannot be names in the frames being\"\u001b[0m\u001b[1;33m\u001b[0m\u001b[1;33m\u001b[0m\u001b[0m\n\u001b[0;32m    142\u001b[0m             \u001b[1;34m\" joined\"\u001b[0m\u001b[1;33m.\u001b[0m\u001b[0mformat\u001b[0m\u001b[1;33m(\u001b[0m\u001b[0mindex_left\u001b[0m\u001b[1;33m,\u001b[0m \u001b[0mindex_right\u001b[0m\u001b[1;33m)\u001b[0m\u001b[1;33m\u001b[0m\u001b[1;33m\u001b[0m\u001b[0m\n",
      "\u001b[1;31mValueError\u001b[0m: 'index_left' and 'index_right' cannot be names in the frames being joined"
     ]
    }
   ],
   "source": [
    "# Taking the spatial join of the dataframes\n",
    "merged_df = gpd.sjoin(df,df_parking, how=\"inner\")\n",
    "\n",
    "merged_df[\"parking_area_m2\"] = merged_df['geometry'].area\n",
    "# Saving the file\n",
    "merged_df.to_file(\"F:/Berlin-DOP_2020/Processed images_new/parking_dist.gpkg\", driver=\"GPKG\", layer=\"parking_disolved_withdata\")"
   ]
  },
  {
   "cell_type": "code",
   "execution_count": null,
   "id": "0124fc88",
   "metadata": {},
   "outputs": [],
   "source": [
    "# Saving the file\n",
    "merged_df.to_file(\"F:/Berlin-DOP_2020/Processed images_new/Predictions.GPKG\", crs='EPSG:25833', Layer= \"Predict_dissolved\", driver=\"GPKG\")"
   ]
  },
  {
   "cell_type": "code",
   "execution_count": null,
   "id": "fc049382",
   "metadata": {},
   "outputs": [],
   "source": []
  }
 ],
 "metadata": {
  "kernelspec": {
   "display_name": "Python 3 (ipykernel)",
   "language": "python",
   "name": "python3"
  },
  "language_info": {
   "codemirror_mode": {
    "name": "ipython",
    "version": 3
   },
   "file_extension": ".py",
   "mimetype": "text/x-python",
   "name": "python",
   "nbconvert_exporter": "python",
   "pygments_lexer": "ipython3",
   "version": "3.9.7"
  }
 },
 "nbformat": 4,
 "nbformat_minor": 5
}
